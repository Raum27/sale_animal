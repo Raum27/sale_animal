{
 "cells": [
  {
   "cell_type": "code",
   "execution_count": 5,
   "metadata": {},
   "outputs": [
    {
     "name": "stdout",
     "output_type": "stream",
     "text": [
      "Index(['DayKey', 'ProductGroup', 'Area', 'Channel', 'Sales', 'CumSales'], dtype='object')\n"
     ]
    }
   ],
   "source": [
    "import pandas as pd\n",
    "import numpy as np\n",
    "import matplotlib.pyplot as plt\n",
    "from sklearn.neighbors import KNeighborsRegressor\n",
    "from sklearn.linear_model import LinearRegression\n",
    "from sklearn.preprocessing import LabelEncoder\n",
    "\n",
    "data = pd.read_csv('Sales_masked.csv')\n",
    "print(data.keys())\n",
    "# data.isnull().sum().to_frame()\n",
    "data.sort_values('DayKey', inplace=True)\n",
    "\n",
    "data_np = data.to_numpy()\n",
    "data_np\n",
    "\n",
    "keep_le = []\n",
    "\n",
    "def gen_GAC():\n",
    "    gen_G =[]\n",
    "    for i in range(1,11):\n",
    "        gen_G.append('G'+str(i%11))\n",
    "    gen_A =[]\n",
    "    for i in range(1,7):\n",
    "        gen_A.append('A'+str(i%7))\n",
    "    gen_C =[]\n",
    "    for i in range(1,3):\n",
    "        gen_C.append('C'+str(i%3))\n",
    "\n",
    "    string = []\n",
    "    for i in range(10):\n",
    "        for j in range(12):\n",
    "            string.append(gen_G[i]+gen_A[j%6])\n",
    "    sum =0\n",
    "    count = 1\n",
    "    for i in range(120):\n",
    "        if sum < 6   :\n",
    "            string[i] += 'C'+'1'\n",
    "            sum +=1\n",
    "        else :\n",
    "            string[i] += 'C'+'2'\n",
    "            sum +=1\n",
    "            if sum == 12 :\n",
    "                sum = 0\n",
    "    return string\n",
    "# หาindex \n",
    "def findrecode(product, area, chanel):\n",
    "        row = 0\n",
    "        pac = gen_GAC()\n",
    "        for i in range(len(pac)):\n",
    "            if len(pac[i]) > 6 :\n",
    "                if pac[i][0:3] == product and pac[i][3:5] == area and pac[i][5:] == chanel: #แก้ตรงนี้\n",
    "                    row = i\n",
    "                    break\n",
    "            else :\n",
    "                if pac[i][0:2] == product and pac[i][2:4] == area and pac[i][4:] == chanel: #แก้ตรงนี้\n",
    "                    row = i\n",
    "                    break\n",
    "        return row\n",
    "\n",
    "sum=0\n",
    "def transform_d(G,check=False,product=None,area=None,chanel=None):\n",
    "    if check != True:\n",
    "        global sum\n",
    "        for i in range(4):\n",
    "            le = LabelEncoder()\n",
    "            keep_le.append(le)\n",
    "            G[:, i] = keep_le[sum].fit_transform(G[:, i])\n",
    "            sum += 1\n",
    "    else:\n",
    "        index = findrecode(product, area, chanel) #หาข้อมูลตำแน่งที่ต้องการ จะเปลี่ยนว่าจะไป อยู่ในตัวใดจาก 120 ตัว\n",
    "        # print(index)\n",
    "        for i in range(G.shape[1]-2):\n",
    "            G[:,i] = keep_le[int(arr[index][i])].fit_transform(G[:,i])\n",
    "\n",
    "# สำหรับอ้างอิงตำแหน่งใน keep_le\n",
    "arr = np.zeros((120, 4))\n",
    "xum = 0\n",
    "for i in range(120):\n",
    "    for j in range(4):\n",
    "        arr[i][j] += xum\n",
    "        xum += 1\n",
    "        \n",
    "# print(arr)\n",
    "\n",
    "# #product group 1 Area 1 channel 1\n",
    "def identifier(product, area, chanel):\n",
    "    G = []\n",
    "    for i in range(data_np.shape[0]):\n",
    "        if data_np[i, 1] == product and data_np[i, 2] == area and data_np[i, 3] == chanel:\n",
    "            G.append(data_np[i, :])\n",
    "    G = np.array(G)\n",
    "    transform_d(G)  # problem\n",
    "    return G\n",
    "\n"
   ]
  },
  {
   "cell_type": "code",
   "execution_count": 6,
   "metadata": {},
   "outputs": [],
   "source": [
    "# print(len(keep_le)) #เช็คตำนวน encode\n",
    "\n",
    "# Good\n",
    "def get_inverse(G,index):\n",
    "    xx = []\n",
    "    for i in range(G.shape[0]):\n",
    "        xx.append(G[i,index])\n",
    "    return xx\n",
    "\n",
    "# not yet\n",
    "def inverse_d(G,product, area, chanel):\n",
    "    # print(product, area, chanel)\n",
    "    index = findrecode(product, area, chanel) #หาข้อมูลตำแน่งที่ต้องการ จะเปลี่ยนว่าจะไป อยู่ในตัวใดจาก 120 ตัว\n",
    "    # print(index)\n",
    "    for i in range(G.shape[1]-2): # columns - 2 \n",
    "        xx = get_inverse(G,i) # เอาข้อมูลจาก ฟังก์ชันมาแปลง กลับ เป็นตัวเดิม\n",
    "        # print(xx)\n",
    "        G[:,i] = keep_le[int(arr[index][i])].inverse_transform(xx)\n"
   ]
  },
  {
   "cell_type": "code",
   "execution_count": 7,
   "metadata": {},
   "outputs": [
    {
     "name": "stdout",
     "output_type": "stream",
     "text": [
      "4\n",
      "[['2010-01-02' 'G1' 'A1' 'C1' 10794 10794.0]\n",
      " ['2010-01-04' 'G1' 'A1' 'C1' 5397 16191.0]\n",
      " ['2010-01-05' 'G1' 'A1' 'C1' 2878 19069.0]\n",
      " ...\n",
      " ['2022-05-29' 'G1' 'A1' 'C1' 14955 3583821.0]\n",
      " ['2022-05-30' 'G1' 'A1' 'C1' 252557 3836378.0]\n",
      " ['2022-05-31' 'G1' 'A1' 'C1' 198318 4034696.0]]\n",
      "[[0 0 0 0 10794 10794.0]\n",
      " [1 0 0 0 5397 16191.0]\n",
      " [2 0 0 0 2878 19069.0]\n",
      " ...\n",
      " [3829 0 0 0 14955 3583821.0]\n",
      " [3830 0 0 0 252557 3836378.0]\n",
      " [3831 0 0 0 198318 4034696.0]]\n"
     ]
    }
   ],
   "source": [
    "G111 = identifier('G1','A1','C1')\n",
    "print(len(keep_le))\n",
    "inverse_d(G111,'G1','A1','C1')\n",
    "print(G111)\n",
    "transform_d(G111,True,'G1','A1','C1')\n",
    "print(G111)"
   ]
  },
  {
   "cell_type": "code",
   "execution_count": 9,
   "metadata": {},
   "outputs": [
    {
     "name": "stdout",
     "output_type": "stream",
     "text": [
      "4\n",
      "[['2010-01-02' 'G1' 'A1' 'C1' 10794 10794.0]\n",
      " ['2010-01-04' 'G1' 'A1' 'C1' 5397 16191.0]\n",
      " ['2010-01-05' 'G1' 'A1' 'C1' 2878 19069.0]\n",
      " ...\n",
      " ['2022-05-29' 'G1' 'A1' 'C1' 14955 3583821.0]\n",
      " ['2022-05-30' 'G1' 'A1' 'C1' 252557 3836378.0]\n",
      " ['2022-05-31' 'G1' 'A1' 'C1' 198318 4034696.0]]\n",
      "[[0 0 0 0 10794 10794.0]\n",
      " [1 0 0 0 5397 16191.0]\n",
      " [2 0 0 0 2878 19069.0]\n",
      " ...\n",
      " [3829 0 0 0 14955 3583821.0]\n",
      " [3830 0 0 0 252557 3836378.0]\n",
      " [3831 0 0 0 198318 4034696.0]]\n",
      "[['2010-01-02' 'G1' 'A1' 'C1' 10794 10794.0]\n",
      " ['2010-01-04' 'G1' 'A1' 'C1' 5397 16191.0]\n",
      " ['2010-01-05' 'G1' 'A1' 'C1' 2878 19069.0]\n",
      " ...\n",
      " ['2022-05-29' 'G1' 'A1' 'C1' 14955 3583821.0]\n",
      " ['2022-05-30' 'G1' 'A1' 'C1' 252557 3836378.0]\n",
      " ['2022-05-31' 'G1' 'A1' 'C1' 198318 4034696.0]]\n"
     ]
    }
   ],
   "source": [
    "print(len(keep_le))\n",
    "inverse_d(G111,'G1','A1','C1')\n",
    "print(G111)\n",
    "transform_d(G111,True,'G1','A1','C1')\n",
    "print(G111)\n",
    "inverse_d(G111,'G1','A1','C1')\n",
    "print(G111)"
   ]
  }
 ],
 "metadata": {
  "kernelspec": {
   "display_name": "Python 3.10.5 64-bit",
   "language": "python",
   "name": "python3"
  },
  "language_info": {
   "codemirror_mode": {
    "name": "ipython",
    "version": 3
   },
   "file_extension": ".py",
   "mimetype": "text/x-python",
   "name": "python",
   "nbconvert_exporter": "python",
   "pygments_lexer": "ipython3",
   "version": "3.10.5"
  },
  "orig_nbformat": 4,
  "vscode": {
   "interpreter": {
    "hash": "ca24f8275a328de2b3270a7cab77592329fa07a6c920079074a1e486941f897c"
   }
  }
 },
 "nbformat": 4,
 "nbformat_minor": 2
}
