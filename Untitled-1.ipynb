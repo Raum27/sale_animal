{
 "cells": [
  {
   "cell_type": "code",
   "execution_count": 1,
   "metadata": {},
   "outputs": [
    {
     "name": "stdout",
     "output_type": "stream",
     "text": [
      "Index(['DayKey', 'ProductGroup', 'Area', 'Channel', 'Sales', 'CumSales'], dtype='object')\n"
     ]
    }
   ],
   "source": [
    "import pandas as pd\n",
    "import numpy as np\n",
    "import datetime\n",
    "import matplotlib.pyplot as plt\n",
    "from sklearn.neighbors import KNeighborsRegressor\n",
    "from sklearn.linear_model import LinearRegression\n",
    "from sklearn.preprocessing import LabelEncoder\n",
    "\n",
    "data = pd.read_csv('Sales_masked.csv')\n",
    "print(data.keys())\n",
    "# data.isnull().sum().to_frame()\n",
    "data.sort_values('DayKey', inplace=True)\n",
    "\n",
    "data_np = data.to_numpy()\n",
    "data_np\n",
    "\n",
    "keep_le = []\n",
    "\n",
    "def gen_GAC():\n",
    "    gen_G =[]\n",
    "    for i in range(1,11):\n",
    "        gen_G.append('G'+str(i%11))\n",
    "    gen_A =[]\n",
    "    for i in range(1,7):\n",
    "        gen_A.append('A'+str(i%7))\n",
    "    gen_C =[]\n",
    "    for i in range(1,3):\n",
    "        gen_C.append('C'+str(i%3))\n",
    "\n",
    "    string = []\n",
    "    for i in range(10):\n",
    "        for j in range(12):\n",
    "            string.append(gen_G[i]+gen_A[j%6])\n",
    "    sum =0\n",
    "    count = 1\n",
    "    for i in range(120):\n",
    "        if sum < 6   :\n",
    "            string[i] += 'C'+'1'\n",
    "            sum +=1\n",
    "        else :\n",
    "            string[i] += 'C'+'2'\n",
    "            sum +=1\n",
    "            if sum == 12 :\n",
    "                sum = 0\n",
    "    return string\n",
    "# หาindex \n",
    "def findrecode(product, area, chanel):\n",
    "        row = 0\n",
    "        pac = gen_GAC()\n",
    "        for i in range(len(pac)):\n",
    "            if len(pac[i]) > 6 :\n",
    "                if pac[i][0:3] == product and pac[i][3:5] == area and pac[i][5:] == chanel: #แก้ตรงนี้\n",
    "                    row = i\n",
    "                    break\n",
    "            else :\n",
    "                if pac[i][0:2] == product and pac[i][2:4] == area and pac[i][4:] == chanel: #แก้ตรงนี้\n",
    "                    row = i\n",
    "                    break\n",
    "        return row\n",
    "\n",
    "sum=0\n",
    "def transform_d(G,check=False,product=None,area=None,chanel=None):\n",
    "    if check != True:\n",
    "        global sum\n",
    "        for i in range(4):\n",
    "            le = LabelEncoder()\n",
    "            keep_le.append(le)\n",
    "            G[:, i] = keep_le[sum].fit_transform(G[:, i])\n",
    "            sum += 1\n",
    "    else:\n",
    "        index = findrecode(product, area, chanel) #หาข้อมูลตำแน่งที่ต้องการ จะเปลี่ยนว่าจะไป อยู่ในตัวใดจาก 120 ตัว\n",
    "        # print(index)\n",
    "        for i in range(G.shape[1]-2):\n",
    "            G[:,i] = keep_le[int(arr[index][i])].fit_transform(G[:,i])\n",
    "\n",
    "# สำหรับอ้างอิงตำแหน่งใน keep_le\n",
    "arr = np.zeros((120, 4))\n",
    "xum = 0\n",
    "for i in range(120):\n",
    "    for j in range(4):\n",
    "        arr[i][j] += xum\n",
    "        xum += 1\n",
    "        \n",
    "# print(arr)\n",
    "\n",
    "# #product group 1 Area 1 channel 1\n",
    "def identifier(product, area, chanel):\n",
    "    G = []\n",
    "    for i in range(data_np.shape[0]):\n",
    "        if data_np[i, 1] == product and data_np[i, 2] == area and data_np[i, 3] == chanel:\n",
    "            G.append(data_np[i, :])\n",
    "    G = np.array(G)\n",
    "    transform_d(G)  # problem\n",
    "    return G\n",
    "\n"
   ]
  },
  {
   "cell_type": "code",
   "execution_count": 2,
   "metadata": {},
   "outputs": [],
   "source": [
    "# print(len(keep_le)) #เช็คตำนวน encode\n",
    "\n",
    "# Good\n",
    "def get_inverse(G,index):\n",
    "    xx = []\n",
    "    for i in range(G.shape[0]):\n",
    "        xx.append(G[i,index])\n",
    "    return xx\n",
    "\n",
    "# not yet\n",
    "def inverse_d(G,product, area, chanel):\n",
    "    # print(product, area, chanel)\n",
    "    index = findrecode(product, area, chanel) #หาข้อมูลตำแน่งที่ต้องการ จะเปลี่ยนว่าจะไป อยู่ในตัวใดจาก 120 ตัว\n",
    "    # print(index)\n",
    "    for i in range(G.shape[1]-2): # columns - 2 \n",
    "        xx = get_inverse(G,i) # เอาข้อมูลจาก ฟังก์ชันมาแปลง กลับ เป็นตัวเดิม\n",
    "        # print(xx)\n",
    "        G[:,i] = keep_le[int(arr[index][i])].inverse_transform(xx)\n"
   ]
  },
  {
   "cell_type": "code",
   "execution_count": 3,
   "metadata": {},
   "outputs": [],
   "source": [
    "G111 = identifier('G1','A1','C1')\n",
    "inverse_d(G111,'G1','A1','C1')"
   ]
  },
  {
   "cell_type": "code",
   "execution_count": 4,
   "metadata": {},
   "outputs": [
    {
     "name": "stdout",
     "output_type": "stream",
     "text": [
      "4\n"
     ]
    }
   ],
   "source": [
    "\n",
    "def gendate(final_day, start_day):\n",
    "    old_year = int(start_day[0:4])\n",
    "    recent_year = int(final_day[0:4])\n",
    "    # print(old_year,\" \",recent_year)\n",
    "    keep_y_m_d = []\n",
    "    for y in range(old_year, recent_year+1):\n",
    "        # print(y,end=''+'\\n')\n",
    "        for m in range(1, 13):\n",
    "            # print(m,end=' '+'\\n')\n",
    "            if m == 1 or m == 3 or m == 5 or m == 7 or m == 8 or m == 10 or m == 12: #ลงท้ายด้วย คม\n",
    "                for d in range(1, 32):\n",
    "                    # print(d,end=' ')\n",
    "                    y_m_d = str(datetime.datetime(y, m, d))\n",
    "                    keep_y_m_d.append(y_m_d[:10])\n",
    "                    if keep_y_m_d[-1] == final_day:\n",
    "                        keep_y_m_d = np.array(keep_y_m_d)\n",
    "                        return  keep_y_m_d\n",
    "\n",
    "            elif m == 2:\n",
    "                if y == 2012 or y == 2016 or y == 2020:     \n",
    "                    for d in range(1, 30):\n",
    "                        y_m_d = str(datetime.datetime(y, m, d))\n",
    "                        keep_y_m_d.append(y_m_d[:10])\n",
    "                        if keep_y_m_d[-1] == final_day:\n",
    "                            keep_y_m_d = np.array(keep_y_m_d)\n",
    "                            return  keep_y_m_d\n",
    "                else:\n",
    "                    for d in range(1, 29):\n",
    "                        # print(d,end=' ')\n",
    "                        y_m_d = str(datetime.datetime(y, m, d))\n",
    "                        keep_y_m_d.append(y_m_d[:10])\n",
    "                        if keep_y_m_d[-1] == final_day:\n",
    "                            keep_y_m_d = np.array(keep_y_m_d)\n",
    "                            return  keep_y_m_d\n",
    "            else:                           #ลงท้ายด้วย ยน\n",
    "                for d in range(1, 31):\n",
    "                    # print(d,end=' ')\n",
    "                    y_m_d = str(datetime.datetime(y, m, d))\n",
    "                    keep_y_m_d.append(y_m_d[:10])\n",
    "                    if keep_y_m_d[-1] == final_day:\n",
    "                        keep_y_m_d = np.array(keep_y_m_d)\n",
    "                        return  keep_y_m_d\n",
    "\n",
    "def transform_now(data):\n",
    "    le = LabelEncoder()\n",
    "    data[:,0]=le.fit_transform(data[:,0])\n",
    "\n",
    "\n",
    "print(len(keep_le))\n",
    "\n",
    "def fill_value_miss(miss_data):\n",
    "    from sklearn.neighbors import KNeighborsRegressor\n",
    "    from sklearn.model_selection import train_test_split\n",
    "    transform_now(miss_data)\n",
    "  \n",
    "    x_train,x_test,y_train,y_test = train_test_split(miss_data[:,0],miss_data[:,1],test_size=0.2,random_state=21)\n",
    "    dtree = KNeighborsRegressor(n_neighbors=3,weights='uniform')\n",
    "    dtree.fit(x_train.reshape(-1,1),y_train)\n",
    "    for i in range(miss_data.shape[0]):\n",
    "        if miss_data[i,1] == 0 :\n",
    "            pred = dtree.predict([[miss_data[i,0]]])\n",
    "            miss_data[i,1] = pred \n",
    "    \n",
    "\n",
    "\n",
    "\n"
   ]
  },
  {
   "cell_type": "code",
   "execution_count": 5,
   "metadata": {},
   "outputs": [
    {
     "name": "stderr",
     "output_type": "stream",
     "text": [
      "C:\\Users\\aumra\\AppData\\Local\\Temp\\ipykernel_58876\\2599565654.py:9: DeprecationWarning: The truth value of an empty array is ambiguous. Returning False, but in future this will result in an error. Use `array.size > 0` to check that an array is not empty.\n",
      "  if G[G == date_full[i]]:\n"
     ]
    },
    {
     "name": "stdout",
     "output_type": "stream",
     "text": [
      "missing CumSales of invidual day = 702\n"
     ]
    },
    {
     "data": {
      "text/plain": [
       "<function matplotlib.pyplot.show(close=None, block=None)>"
      ]
     },
     "execution_count": 5,
     "metadata": {},
     "output_type": "execute_result"
    },
    {
     "data": {
      "image/png": "[encoded data removed]",
      "text/plain": [
       "<Figure size 432x288 with 1 Axes>"
      ]
     },
     "metadata": {
      "needs_background": "light"
     },
     "output_type": "display_data"
    }
   ],
   "source": [
    "\n",
    "def find_value_miss(G):\n",
    "     # print(G[-1, 0],G[0, 0])\n",
    "     date_full = gendate(G[-1, 0], G[0, 0])\n",
    "     miss_data = [[0]*2 for i in range(date_full.shape[0])]\n",
    "     miss_data = np.array(miss_data,dtype=object)\n",
    "     count_miss_day = 0\n",
    "     origin_index = 0\n",
    "     for i in range(date_full.shape[0]):  \n",
    "          if G[G == date_full[i]]:\n",
    "               miss_data [i][0] = G[origin_index,0]\n",
    "               miss_data [i][1] = G[origin_index,5]\n",
    "               origin_index  +=1\n",
    "          else :\n",
    "               miss_data [i][0] = date_full[i]\n",
    "               miss_data [i][1] = 0.0\n",
    "               count_miss_day += 1\n",
    "     fill_value_miss(miss_data)\n",
    "     print('missing CumSales of invidual day =',count_miss_day)\n",
    "     return miss_data\n",
    "\n",
    "\n",
    "info = find_value_miss(G111)\n",
    "\n",
    "\n",
    "plt.scatter(info[:20,0],info[:20,1])\n",
    "plt.show\n"
   ]
  },
  {
   "cell_type": "code",
   "execution_count": 6,
   "metadata": {},
   "outputs": [],
   "source": [
    "\n",
    "# from sklearn.neighbors import KNeighborsRegressor\n",
    "# from sklearn.model_selection import train_test_split\n",
    "# x_train,x_test,y_train,y_test = train_test_split(info[:,0],info[:,1],test_size=0.2,random_state=21)\n",
    "# dtree = KNeighborsRegressor(n_neighbors=3,weights='uniform')\n",
    "# dtree.fit(x_train.reshape(-1,1),y_train)\n",
    "# k=info[0,0]\n",
    "# pred = dtree.predict([[info[14,0]]])\n",
    "\n",
    "# plt.scatter(info[:20,0],info[:20,1])\n",
    "# plt.plot(info[14,0],pred,'sr')\n",
    "# plt.show\n"
   ]
  }
 ],
 "metadata": {
  "kernelspec": {
   "display_name": "Python 3.10.5 64-bit",
   "language": "python",
   "name": "python3"
  },
  "language_info": {
   "codemirror_mode": {
    "name": "ipython",
    "version": 3
   },
   "file_extension": ".py",
   "mimetype": "text/x-python",
   "name": "python",
   "nbconvert_exporter": "python",
   "pygments_lexer": "ipython3",
   "version": "3.10.5"
  },
  "orig_nbformat": 4,
  "vscode": {
   "interpreter": {
    "hash": "ca24f8275a328de2b3270a7cab77592329fa07a6c920079074a1e486941f897c"
   }
  }
 },
 "nbformat": 4,
 "nbformat_minor": 2
}
