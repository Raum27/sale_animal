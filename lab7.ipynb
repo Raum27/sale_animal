{
 "cells": [
  {
   "cell_type": "code",
   "execution_count": 252,
   "metadata": {},
   "outputs": [
    {
     "name": "stdout",
     "output_type": "stream",
     "text": [
      "[[  6.    148.     72.    ...  33.6     0.627  50.   ]\n",
      " [  1.     85.     66.    ...  26.6     0.351  31.   ]\n",
      " [  8.    183.     64.    ...  23.3     0.672  32.   ]\n",
      " ...\n",
      " [  5.    121.     72.    ...  26.2     0.245  30.   ]\n",
      " [  1.    126.     60.    ...  30.1     0.349  47.   ]\n",
      " [  1.     93.     70.    ...  30.4     0.315  23.   ]]\n",
      "[1. 0. 1. 0. 1. 0. 1. 0. 1. 1. 0. 1. 0. 1. 1. 1. 1. 1. 0. 1. 0. 0. 1. 1.\n",
      " 1. 1. 1. 0. 0. 0. 0. 1. 0. 0. 0. 0. 0. 1. 1. 1. 0. 0. 0. 1. 0. 1. 0. 0.\n",
      " 1. 0. 0. 0. 0. 1. 0. 0. 1. 0. 0. 0. 0. 1. 0. 0. 1. 0. 1. 0. 0. 0. 1. 0.\n",
      " 1. 0. 0. 0. 0. 0. 1. 0. 0. 0. 0. 0. 1. 0. 0. 0. 1. 0. 0. 0. 0. 1. 0. 0.\n",
      " 0. 0. 0. 1. 1. 0. 0. 0. 0. 0. 0. 0. 0. 1. 1. 1. 0. 0. 1. 1. 1. 0. 0. 0.\n",
      " 1. 0. 0. 0. 1. 1. 0. 0. 1. 1. 1. 1. 1. 0. 0. 0. 0. 0. 0. 0. 0. 0. 0. 1.\n",
      " 0. 0. 0. 0. 0. 0. 0. 0. 1. 0. 1. 1. 0. 0. 0. 1. 0. 0. 0. 0. 1. 1. 0. 0.\n",
      " 0. 0. 1. 1. 0. 0. 0. 1. 0. 1. 0. 1. 0. 0. 0. 0. 0. 1. 1. 1. 1. 1. 0. 0.\n",
      " 1. 1. 0. 1. 0. 1. 1. 1. 0. 0. 0. 0. 0. 0. 1. 1. 0. 1. 0. 0. 0. 1. 1. 1.\n",
      " 1. 0. 1. 1. 1. 1. 0. 0. 0. 0. 0. 1. 0. 0. 1. 1. 0. 0. 0. 1. 1. 1. 1. 0.\n",
      " 0. 0. 1. 1. 0. 1. 0. 0. 0. 0. 0. 0. 0. 0. 1. 1. 0. 0. 0. 1. 0. 1. 0. 0.\n",
      " 1. 0. 1. 0. 0. 1. 1. 0. 0. 0. 0. 0. 1. 0. 0. 0. 1. 0. 0. 1. 1. 0. 0. 1.\n",
      " 0. 0. 0. 1. 1. 1. 0. 0. 1. 0. 1. 0. 1. 1. 0. 1. 0. 0. 1. 0. 1. 1. 0. 0.\n",
      " 1. 0. 1. 0. 0. 1. 0. 1. 0. 1. 1. 1. 0. 0. 1. 0. 1. 0. 0. 0. 1. 0. 0. 0.\n",
      " 0. 1. 1. 1. 0. 0. 0. 0. 0. 0. 0. 0. 0. 1. 0. 0. 0. 0. 0. 1. 1. 1. 0. 1.\n",
      " 1. 0. 0. 1. 0. 0. 1. 0. 0. 1. 1. 0. 0. 0. 0. 1. 0. 0. 1. 0. 0. 0. 0. 0.\n",
      " 0. 0. 1. 1. 1. 0. 0. 1. 0. 0. 1. 0. 0. 1. 0. 1. 1. 0. 1. 0. 1. 0. 1. 0.\n",
      " 1. 1. 0. 0. 0. 0. 1. 1. 0. 1. 0. 1. 0. 0. 0. 0. 1. 1. 0. 1. 0. 1. 0. 0.\n",
      " 0. 0. 0. 1. 0. 0. 0. 0. 1. 0. 0. 1. 1. 1. 0. 0. 1. 0. 0. 1. 0. 0. 0. 1.\n",
      " 0. 0. 1. 0. 0. 0. 0. 0. 0. 0. 0. 0. 1. 0. 0. 0. 0. 0. 0. 0. 1. 0. 0. 0.\n",
      " 1. 0. 0. 0. 1. 1. 0. 0. 0. 0. 0. 0. 0. 1. 0. 0. 0. 0. 1. 0. 0. 0. 1. 0.\n",
      " 0. 0. 1. 0. 0. 0. 1. 0. 0. 0. 0. 1. 1. 0. 0. 0. 0. 0. 0. 1. 0. 0. 0. 0.\n",
      " 0. 0. 0. 0. 0. 0. 0. 1. 0. 0. 0. 1. 1. 1. 1. 0. 0. 1. 1. 0. 0. 0. 0. 0.\n",
      " 0. 0. 0. 0. 0. 0. 0. 0. 1. 1. 0. 0. 0. 0. 0. 0. 0. 1. 0. 0. 0. 0. 0. 0.\n",
      " 0. 1. 0. 1. 1. 0. 0. 0. 1. 0. 1. 0. 1. 0. 1. 0. 1. 0. 0. 1. 0. 0. 1. 0.\n",
      " 0. 0. 0. 1. 1. 0. 1. 0. 0. 0. 0. 1. 1. 0. 1. 0. 0. 0. 1. 1. 0. 0. 0. 0.\n",
      " 0. 0. 0. 0. 0. 0. 1. 0. 0. 0. 0. 1. 0. 0. 1. 0. 0. 0. 1. 0. 0. 0. 1. 1.\n",
      " 1. 0. 0. 0. 0. 0. 0. 1. 0. 0. 0. 1. 0. 1. 1. 1. 1. 0. 1. 1. 0. 0. 0. 0.\n",
      " 0. 0. 0. 1. 1. 0. 1. 0. 0. 1. 0. 1. 0. 0. 0. 0. 0. 1. 0. 1. 0. 1. 0. 1.\n",
      " 1. 0. 0. 0. 0. 1. 1. 0. 0. 0. 1. 0. 1. 1. 0. 0. 1. 0. 0. 1. 1. 0. 0. 1.\n",
      " 0. 0. 1. 0. 0. 0. 0. 0. 0. 0. 1. 1. 1. 0. 0. 0. 0. 0. 0. 1. 1. 0. 0. 1.\n",
      " 0. 0. 1. 0. 1. 1. 1. 0. 0. 1. 1. 1. 0. 1. 0. 1. 0. 1. 0. 0. 0. 0. 1. 0.]\n"
     ]
    }
   ],
   "source": [
    "from pandas import read_csv \n",
    "\n",
    "from sklearn.feature_selection import RFE \n",
    "\n",
    "url = \"https://raw.githubusercontent.com/jbrownlee/Datasets/master/pima-indians-diabetes.csv\" \n",
    "\n",
    "names = ['preg', 'plas', 'pres', 'skin', 'test', 'mass', 'pedi', 'age', 'class'] \n",
    "\n",
    "dataframe = read_csv(url, names=names) \n",
    "\n",
    "array = dataframe.values \n",
    "\n",
    "X = array[:,0:8] \n",
    "Y = array[:,8] \n",
    "\n",
    "print(X)\n",
    "print(Y)"
   ]
  },
  {
   "cell_type": "code",
   "execution_count": 253,
   "metadata": {},
   "outputs": [],
   "source": [
    "from sklearn.model_selection import train_test_split\n",
    "from sklearn.metrics import accuracy_score,precision_score,recall_score\n",
    "from sklearn.feature_selection import f_classif,RFE\n",
    "from sklearn import tree"
   ]
  },
  {
   "cell_type": "code",
   "execution_count": 254,
   "metadata": {},
   "outputs": [],
   "source": [
    "#split data\n",
    "\n",
    "X_train,X_test,y_train,y_test = train_test_split(X,Y,test_size=0.2)"
   ]
  },
  {
   "cell_type": "code",
   "execution_count": 255,
   "metadata": {},
   "outputs": [
    {
     "name": "stdout",
     "output_type": "stream",
     "text": [
      "Accuracy_score 0.7012987012987013\n",
      "Precision_score 0.6\n",
      "Recall_score 0.6206896551724138\n"
     ]
    }
   ],
   "source": [
    "# use tree only\n",
    "\n",
    "model = tree.DecisionTreeClassifier().fit(X_train,y_train)\n",
    "y_hat = model.predict(X_test)\n",
    "print('Accuracy_score',accuracy_score(y_test,y_hat))\n",
    "print('Precision_score',precision_score(y_test,y_hat))\n",
    "print('Recall_score',recall_score(y_test,y_hat))\n"
   ]
  },
  {
   "cell_type": "code",
   "execution_count": 256,
   "metadata": {},
   "outputs": [
    {
     "name": "stdout",
     "output_type": "stream",
     "text": [
      "f_socre : [ 28.92411723 151.86922689   2.52209281   1.00177994   6.42821477\n",
      "  48.55341376  13.65019429  36.2640213 ]\n",
      "P-value : [1.07254057e-07 2.50307071e-31 1.12777975e-01 3.17275765e-01\n",
      " 1.14799181e-02 8.33366819e-12 2.39942099e-04 2.97276324e-09]\n",
      "Accuracy_score 0.6298701298701299\n",
      "Precision_score 0.453125\n",
      "Recall_score 0.5686274509803921\n"
     ]
    }
   ],
   "source": [
    "# use anova \n",
    "import pandas as pd\n",
    "feature_selected = f_classif(X_train,y_train)\n",
    "print('f_socre :',feature_selected[0])\n",
    "print('P-value :',feature_selected[1])\n",
    "\n",
    "se1 = pd.Series(array[:,0])\n",
    "se2 = pd.Series(array[:,1])\n",
    "se3 = pd.Series(array[:,5])\n",
    "se4 = pd.Series(array[:,7])\n",
    "df = pd.DataFrame(se1,columns=['preg'])\n",
    "df['plas'] = se2\n",
    "df['mass'] = se3\n",
    "df['age'] = se4\n",
    "X = df\n",
    "X_train,X_test,y_train,y_test = train_test_split(X,Y,test_size=0.2)\n",
    "\n",
    "model = tree.DecisionTreeClassifier().fit(X_train,y_train)\n",
    "y_hat = model.predict(X_test)\n",
    "print('Accuracy_score',accuracy_score(y_test,y_hat))\n",
    "print('Precision_score',precision_score(y_test,y_hat))\n",
    "print('Recall_score',recall_score(y_test,y_hat))\n"
   ]
  },
  {
   "cell_type": "code",
   "execution_count": 257,
   "metadata": {},
   "outputs": [
    {
     "name": "stdout",
     "output_type": "stream",
     "text": [
      "round 0 = [False  True False False False False False False]\n",
      "round 0 = [6 1 4 8 7 3 2 5]\n",
      "round 1 = [False  True False False False  True False False]\n",
      "round 1 = [6 1 4 7 5 1 2 3]\n",
      "round 2 = [False  True False False False  True False  True]\n",
      "round 2 = [5 1 3 4 6 1 2 1]\n",
      "round 3 = [False  True  True False False  True  True False]\n",
      "round 3 = [4 1 1 5 3 1 1 2]\n",
      "round 4 = [False  True  True False False  True  True  True]\n",
      "round 4 = [3 1 1 4 2 1 1 1]\n",
      "round 5 = [False  True  True False  True  True  True  True]\n",
      "round 5 = [3 1 1 2 1 1 1 1]\n",
      "round 6 = [ True  True  True False  True  True  True  True]\n",
      "round 6 = [1 1 1 2 1 1 1 1]\n",
      "round 7 = [ True  True  True  True  True  True  True  True]\n",
      "round 7 = [1 1 1 1 1 1 1 1]\n",
      "Accuracy_score ของแต่ละ feature\n",
      " [0.65625, 0.65625, 0.53125, 0.6770833333333334, 0.6458333333333334, 0.8020833333333334, 0.7395833333333334, 0.75]\n",
      "the best feature = 6\n",
      "Accuracy_score 0.7792207792207793\n",
      "Precision_score 0.6166666666666667\n",
      "Recall_score 0.7708333333333334\n"
     ]
    }
   ],
   "source": [
    "# use RFE\n",
    "import numpy as np\n",
    "from sklearn.model_selection import KFold\n",
    "kf = KFold(n_splits=8)\n",
    "kf.get_n_splits(dataframe)\n",
    "array = dataframe.values \n",
    "X = array[:,0:8] \n",
    "Y = array[:,8] \n",
    "n_feature = [1,2,3,4,5,6,7,8]\n",
    "n_score =[]\n",
    "i=0\n",
    "model = tree.DecisionTreeClassifier()\n",
    "for train_index, test_index in kf.split(X):\n",
    "    X_train, X_test,y_train, y_test  = X[train_index],X[test_index],Y[train_index],Y[test_index]\n",
    "    selector = RFE(model,n_features_to_select=n_feature[i],step=1)\n",
    "    selector.fit(X_train,y_train)\n",
    "    print(\"round {} =\".format(i),selector.support_)\n",
    "    print(\"round {} =\".format(i),selector.ranking_)\n",
    "    y_hat=selector.predict(X_test)\n",
    "    n_score.append((accuracy_score(y_test,y_hat)))\n",
    "    i+=1\n",
    "\n",
    "print(\"Accuracy_score ของแต่ละ feature\\n\",n_score)\n",
    "map_feature = n_feature[np.argmax(n_score)]\n",
    "print(\"the best feature = {}\".format(map_feature))\n",
    "# print(map_feature)\n",
    "\n",
    "X_train,X_test,y_train,y_test = train_test_split(X,Y,test_size=0.2)\n",
    "model.fit(X_train,y_train)\n",
    "y_hat=model.predict(X_test)\n",
    "\n",
    "\n",
    "print('Accuracy_score',accuracy_score(y_test,y_hat))\n",
    "print('Precision_score',precision_score(y_test,y_hat))\n",
    "print('Recall_score',recall_score(y_test,y_hat))"
   ]
  },
  {
   "cell_type": "code",
   "execution_count": null,
   "metadata": {},
   "outputs": [],
   "source": []
  }
 ],
 "metadata": {
  "kernelspec": {
   "display_name": "Python 3.10.5 64-bit",
   "language": "python",
   "name": "python3"
  },
  "language_info": {
   "codemirror_mode": {
    "name": "ipython",
    "version": 3
   },
   "file_extension": ".py",
   "mimetype": "text/x-python",
   "name": "python",
   "nbconvert_exporter": "python",
   "pygments_lexer": "ipython3",
   "version": "3.10.5"
  },
  "orig_nbformat": 4,
  "vscode": {
   "interpreter": {
    "hash": "ca24f8275a328de2b3270a7cab77592329fa07a6c920079074a1e486941f897c"
   }
  }
 },
 "nbformat": 4,
 "nbformat_minor": 2
}
