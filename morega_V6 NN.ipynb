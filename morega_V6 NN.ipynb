{
 "cells": [
  {
   "cell_type": "code",
   "execution_count": 1,
   "metadata": {},
   "outputs": [],
   "source": [
    "import pandas as pd\n",
    "import numpy as np\n",
    "import seaborn as sn\n",
    "import datetime\n",
    "import matplotlib.pyplot as plt\n",
    "from sklearn.preprocessing import LabelEncoder\n",
    "\n",
    "data = pd.read_csv('Sales_masked.csv')\n",
    "# print(data.keys())\n",
    "# data.isnull().sum().to_frame()\n",
    "data.sort_values('DayKey', inplace=True)\n",
    "\n",
    "data_np = data.to_numpy()\n",
    "data_np\n",
    "\n",
    "\n",
    "\n",
    "# #product group 1 Area 1 channel 1\n",
    "def identifier(product, area, chanel):\n",
    "    G = []\n",
    "    for i in range(data_np.shape[0]):\n",
    "        if data_np[i, 1] == product and data_np[i, 2] == area and data_np[i, 3] == chanel:\n",
    "            G.append(data_np[i, :])\n",
    "    G = np.array(G)\n",
    "    # transform_d(G)  \n",
    "    return G\n"
   ]
  },
  {
   "cell_type": "code",
   "execution_count": 2,
   "metadata": {},
   "outputs": [],
   "source": [
    "#group Area chanel\n",
    "All_Group = []\n",
    "for dept in range(1,11):\n",
    "\n",
    "    for row in range(1,7):\n",
    "        for col in range(1):\n",
    "            # print('G'+str(dept),'A'+str(row),'C'+str(2),end=' '+'\\n')\n",
    "            All_Group.append(identifier('G'+str(dept),'A'+str(row),'C'+str(1)))\n",
    "\n",
    "    for row in range(1,7):\n",
    "        for col in range(1):\n",
    "            # print('G'+str(dept),'A'+str(row),'C'+str(2),end=' '+'\\n')\n",
    "            All_Group.append(identifier('G'+str(dept),'A'+str(row),'C'+str(2)))\n",
    "\n",
    "\n"
   ]
  },
  {
   "cell_type": "code",
   "execution_count": 3,
   "metadata": {},
   "outputs": [],
   "source": [
    "\n",
    "def gendate(final_day, start_day):\n",
    "    old_year = int(start_day[0:4])\n",
    "    recent_year = int(final_day[0:4])\n",
    "    # print(old_year,\" \",recent_year)\n",
    "    keep_y_m_d = []\n",
    "    for y in range(old_year, recent_year+1):\n",
    "        # print(y,end=''+'\\n')\n",
    "        for m in range(1, 13):\n",
    "            # print(m,end=' '+'\\n')\n",
    "            if m == 1 or m == 3 or m == 5 or m == 7 or m == 8 or m == 10 or m == 12: #ลงท้ายด้วย คม\n",
    "                for d in range(1, 32):\n",
    "                    # print(d,end=' ')\n",
    "                    y_m_d = str(datetime.datetime(y, m, d))\n",
    "                    keep_y_m_d.append(y_m_d[:10])\n",
    "                    if keep_y_m_d[-1] == final_day:\n",
    "                        keep_y_m_d = np.array(keep_y_m_d)\n",
    "                        return  keep_y_m_d\n",
    "\n",
    "            elif m == 2:\n",
    "                if y == 2012 or y == 2016 or y == 2020 :     \n",
    "                    for d in range(1, 30):\n",
    "                        y_m_d = str(datetime.datetime(y, m, d))\n",
    "                        keep_y_m_d.append(y_m_d[:10])\n",
    "                        if keep_y_m_d[-1] == final_day:\n",
    "                            keep_y_m_d = np.array(keep_y_m_d)\n",
    "                            return  keep_y_m_d\n",
    "                else:\n",
    "                    for d in range(1, 29):\n",
    "                        # print(d,end=' ')\n",
    "                        y_m_d = str(datetime.datetime(y, m, d))\n",
    "                        keep_y_m_d.append(y_m_d[:10])\n",
    "                        if keep_y_m_d[-1] == final_day:\n",
    "                            keep_y_m_d = np.array(keep_y_m_d)\n",
    "                            return  keep_y_m_d\n",
    "            else:                           #ลงท้ายด้วย ยน\n",
    "                for d in range(1, 31):\n",
    "                    # print(d,end=' ')\n",
    "                    y_m_d = str(datetime.datetime(y, m, d))\n",
    "                    keep_y_m_d.append(y_m_d[:10])\n",
    "                    if keep_y_m_d[-1] == final_day:\n",
    "                        keep_y_m_d = np.array(keep_y_m_d)\n",
    "                        return  keep_y_m_d"
   ]
  },
  {
   "cell_type": "code",
   "execution_count": 4,
   "metadata": {},
   "outputs": [],
   "source": [
    "\n",
    "le = LabelEncoder()\n",
    "def transform_now(data):\n",
    "    data[:,0]=le.fit_transform(data[:,0])\n",
    "\n",
    "def inverse_d_new(data):\n",
    "     xx = []\n",
    "     for i in range(data.shape[0]):\n",
    "          xx.append(data[i,0])\n",
    "     # print(xx)\n",
    "     data[:,0]=le.inverse_transform(xx)"
   ]
  },
  {
   "cell_type": "code",
   "execution_count": 5,
   "metadata": {},
   "outputs": [],
   "source": [
    "def process_fill(index_start,index_stop,info):\n",
    "    count_sub = 1 # count index[i] each value is 0 and bring it plot index or divide\n",
    "    dis_sub = 0  # find distance of value for example 10 _ _ _ 40 --> 40 - 10 = 30 = dis_sub\n",
    "    dist = 0  # dist = dis_sub/count_sub\n",
    "    size_info = index_stop-index_start\n",
    "    for i in range(index_start,index_stop):\n",
    "        if info[i] == 0:\n",
    "            count_sub += 1\n",
    "            # if it have a value in start day [10 0 0 0 0 0 0 0 0 0]\n",
    "            if info[index_start] != 0 and count_sub == size_info:\n",
    "                dist = info[index_start]\n",
    "                for j in range(count_sub-1):\n",
    "                    if info[j+1]==0:\n",
    "                       info[j+1] = float(info[j]+dist)\n",
    "                count_sub = 1\n",
    "            elif i+1 ==  index_stop: #  [0  0  0  0  50  0  0  0  0], [ 0  0  0  0 50  0  0  0  0  0] \n",
    "                if count_sub %2 !=0:\n",
    "                    dist = int(info[i-count_sub+1]/count_sub) \n",
    "                else:\n",
    "                    dist = int(info[i-count_sub+1]/(count_sub-1))\n",
    "                    if info[i-1] !=0:\n",
    "                        info[i] = float(int(info[i-1])+(int((info[i-1]*6)/100))) ;\"\"\"decrease when value in last day over \"\"\"\n",
    "                        break\n",
    "                for j in reversed(range(count_sub)):\n",
    "                    # pass\n",
    "                    if info[i-j] ==0:\n",
    "                        info[i-j] = float(info[i-j-1]+dist)\n",
    "                count_sub = 1\n",
    "        elif info[i] != 0 :\n",
    "            # if it have a value in final day [0 0 0 0 0 0 0 0 0 100]\n",
    "            if count_sub == size_info:\n",
    "                dist = int(info[i]/(count_sub))\n",
    "                for j in reversed(range(count_sub)):\n",
    "                    if info[j-1] ==0:\n",
    "                        info[j-1] = float(info[j]-dist)\n",
    "                count_sub = 1\n",
    "            # if it have a value in start and final day [10 0 0 0 0 0 0 0 0 100] OR [7,0,0,10,0,15,0,0,30] OR [0 20 0 40 0 60 0 80 0 100]\n",
    "            elif count_sub != 1:\n",
    "                dis_sub = info[i] if count_sub>i else info[i]-info[i-count_sub]\n",
    "                dist = int(dis_sub/count_sub)\n",
    "                for j in range(count_sub):\n",
    "                    if info[i-j-1] ==0 and i-j-1 >=0:\n",
    "                        info[i-j-1] = float(info[i-j]-dist)\n",
    "                count_sub = 1\n",
    "    return info\n",
    "    "
   ]
  },
  {
   "cell_type": "code",
   "execution_count": 6,
   "metadata": {},
   "outputs": [],
   "source": [
    "\"\"\"for fill value miss by distance\"\"\"\n",
    "def FILL_CUMSALES(get_group_by,info):\n",
    "    print(info.shape[0])\n",
    "    index_start =0\n",
    "    index_stop =0\n",
    "    for i in range(len(get_group_by)):\n",
    "        if i ==0:\n",
    "            sub_arr = info[0:get_group_by['Counts'][i],1]\n",
    "            sub_arr=process_fill(0,get_group_by['Counts'][i],sub_arr)\n",
    "            info[0:get_group_by['Counts'][i],1] =sub_arr\n",
    "            index_stop += get_group_by['Counts'][i]\n",
    "        else:\n",
    "            index_start +=get_group_by['Counts'][i-1]\n",
    "            index_stop +=get_group_by['Counts'][i]\n",
    "            sub_arr = info[index_start:index_stop,1]\n",
    "            sub_arr = process_fill(0,get_group_by['Counts'][i],sub_arr)\n",
    "            info[index_start:index_stop,1] = sub_arr\n"
   ]
  },
  {
   "cell_type": "code",
   "execution_count": 7,
   "metadata": {},
   "outputs": [],
   "source": [
    "def fill_value_miss(miss_data):\n",
    "    cols =['Day','Cumsales']\n",
    "    df = pd.DataFrame(miss_data,columns=cols)\n",
    "    sub_day = []\n",
    "    full_day = df.copy()\n",
    "    for i in range(len(df)):\n",
    "        sub_day.append(df['Day'][i][0:7]) \n",
    "    for i in range(len(df)):\n",
    "        df['Day'][i] = sub_day[i]\n",
    "    get_group_by = df.groupby('Day').size().reset_index(name='Counts')\n",
    "    full_day = full_day.to_numpy() \n",
    "    FILL_CUMSALES(get_group_by,full_day)\n",
    "    # for i in range(full_day.shape[0]):    \n",
    "    #     print(full_day[i,0],\" \",full_day[i,1])\n",
    "    transform_now(full_day)\n",
    "    return full_day\n",
    "\n",
    "def find_value_miss(G):\n",
    "    print(\"ProductGroup : {}, Area : {} ,Channel : {}\".format(G[0, 1], G[0, 2], G[0, 3]))\n",
    "    print(\"start : {}, end : {} \".format(G[0, 0], G[-1, 0]))\n",
    "    date_full = gendate(G[-1, 0], G[0, 0])\n",
    "    miss_data = [[0]*2 for i in range(date_full.shape[0])]\n",
    "    miss_data = np.array(miss_data, dtype=object)\n",
    "    count_miss_day = 0\n",
    "    origin_index = 0\n",
    "    for i in range(date_full.shape[0]):\n",
    "        if G[origin_index, 0] == date_full[i]:  # G[G == date_full[i]]:\n",
    "            miss_data[i][0] = G[origin_index, 0]\n",
    "            miss_data[i][1] = G[origin_index, 5]\n",
    "            origin_index += 1\n",
    "        else:\n",
    "            miss_data[i][0] = date_full[i]\n",
    "            miss_data[i][1] = 0.0 #np.nan #float('NaN') #None\n",
    "            count_miss_day += 1\n",
    "    miss_data_no_fill = miss_data.copy()\n",
    "    cleaned_data = fill_value_miss(miss_data)\n",
    "    print('missing CumSales of invidual day =', count_miss_day)\n",
    "    return cleaned_data,miss_data_no_fill\n"
   ]
  },
  {
   "cell_type": "code",
   "execution_count": 8,
   "metadata": {},
   "outputs": [],
   "source": [
    "def find_group(product,area,chanel):\n",
    "    stop_g = (12*product)-1\n",
    "    dept_g = stop_g - 11\n",
    "    row_1 = np.arange(0,6)\n",
    "    row_2 = np.arange(6,12)\n",
    "    if chanel == 1:\n",
    "        dept_g += row_1[area-1]   \n",
    "    else :\n",
    "        dept_g += row_2[area-1]\n",
    "    return dept_g \n",
    "\n"
   ]
  },
  {
   "cell_type": "code",
   "execution_count": 9,
   "metadata": {},
   "outputs": [],
   "source": [
    "\n",
    "def find_day(*Date):\n",
    "    DATE = []\n",
    "    month = [0,31,59,90,120,151,181,212,243,273,304,334,365]\n",
    "    month_1 = [0,31,60,91,121,152,183,213,244,274,305,335,366]\n",
    "    Year = [0,365,730,1096,1461,1826,2191,2557,2922,3287,3652,4018,4383]\n",
    "    for i in range(len(Date)):\n",
    "        match = 0\n",
    "        if Date[i][:4] == \"2012\" or Date[i][:4] == \"2016\" or Date[i][:4] == \"2020\":\n",
    "            match += Year[int(Date[i][2:4])-10]+month_1[int(Date[i][5:7])-1]+int(Date[i][-2:])-1\n",
    "        else:\n",
    "            match += Year[int(Date[i][2:4])-10]+month[int(Date[i][5:7])-1]+int(Date[i][-2:])-1\n",
    "        DATE.append(match)\n",
    "    return DATE"
   ]
  },
  {
   "cell_type": "code",
   "execution_count": 10,
   "metadata": {},
   "outputs": [
    {
     "name": "stdout",
     "output_type": "stream",
     "text": [
      "ProductGroup : G5, Area : A1 ,Channel : C1\n",
      "start : 2010-01-02, end : 2022-05-31 \n",
      "4534\n",
      "missing CumSales of invidual day = 269\n"
     ]
    }
   ],
   "source": [
    "A=find_group(5,1,1)\n",
    "info,before = find_value_miss(All_Group[A])\n",
    "\n"
   ]
  },
  {
   "cell_type": "code",
   "execution_count": 29,
   "metadata": {},
   "outputs": [],
   "source": [
    "\n",
    "kk = find_day(\"2019-01-01\",\"2019-01-03\",\"2019-01-31\")\n",
    "X_train = info[kk[0]:kk[1]+1,0].astype(np.int64)\n",
    "y_train = info[kk[0]:kk[1]+1,1].astype(np.int64)\n",
    "X_test = info[kk[1]+1:kk[2]+1,0].astype(np.int64)\n",
    "y_test = info[kk[1]+1:kk[2]+1,1].astype(np.int64)\n",
    "\n"
   ]
  },
  {
   "cell_type": "code",
   "execution_count": 37,
   "metadata": {},
   "outputs": [],
   "source": [
    "from tensorflow.keras import Sequential\n",
    "from tensorflow.keras.layers import Dense\n",
    "from tensorflow.keras.regularizers import L2\n",
    "import tensorflow as tf\n",
    "model = None\n",
    "model = Sequential(name='godzilla')\n",
    "model.add(Dense(1024,activation='linear',input_shape=(1,),name='Layer1',kernel_regularizer=L2(0.01)))\n",
    "model.add(Dense(512,activation='linear',name='Layer2',kernel_regularizer=L2(0.01)))\n",
    "model.add(Dense(1024,activation='linear',name='Layer3',kernel_regularizer=L2(0.01)))\n",
    "model.add(Dense(1,activation='linear',name='Output'))"
   ]
  },
  {
   "cell_type": "code",
   "execution_count": 38,
   "metadata": {},
   "outputs": [
    {
     "name": "stdout",
     "output_type": "stream",
     "text": [
      "Model: \"godzilla\"\n",
      "_________________________________________________________________\n",
      " Layer (type)                Output Shape              Param #   \n",
      "=================================================================\n",
      " Layer1 (Dense)              (None, 1024)              2048      \n",
      "                                                                 \n",
      " Layer2 (Dense)              (None, 512)               524800    \n",
      "                                                                 \n",
      " Layer3 (Dense)              (None, 1024)              525312    \n",
      "                                                                 \n",
      " Output (Dense)              (None, 1)                 1025      \n",
      "                                                                 \n",
      "=================================================================\n",
      "Total params: 1,053,185\n",
      "Trainable params: 1,053,185\n",
      "Non-trainable params: 0\n",
      "_________________________________________________________________\n"
     ]
    }
   ],
   "source": [
    "model.summary()"
   ]
  },
  {
   "cell_type": "code",
   "execution_count": 39,
   "metadata": {},
   "outputs": [
    {
     "data": {
      "text/plain": [
       "(None, 1)"
      ]
     },
     "execution_count": 39,
     "metadata": {},
     "output_type": "execute_result"
    }
   ],
   "source": [
    "model.output_shape"
   ]
  },
  {
   "cell_type": "code",
   "execution_count": 40,
   "metadata": {},
   "outputs": [],
   "source": [
    "adam_smash = tf.keras.optimizers.Adam(learning_rate=0.001)\n",
    "model.compile(optimizer=adam_smash  ,loss='MeanSquaredError',metrics=['MeanSquaredError'])"
   ]
  },
  {
   "cell_type": "code",
   "execution_count": 41,
   "metadata": {},
   "outputs": [
    {
     "name": "stdout",
     "output_type": "stream",
     "text": [
      "Epoch 1/100\n",
      "1/1 [==============================] - 2s 2s/step - loss: 409777995776.0000 - mean_squared_error: 409777995776.0000 - val_loss: 403590447104.0000 - val_mean_squared_error: 403590447104.0000\n",
      "Epoch 2/100\n",
      "1/1 [==============================] - 0s 196ms/step - loss: 403590447104.0000 - mean_squared_error: 403590447104.0000 - val_loss: 395310891008.0000 - val_mean_squared_error: 395310891008.0000\n",
      "Epoch 3/100\n",
      "1/1 [==============================] - 0s 84ms/step - loss: 395310891008.0000 - mean_squared_error: 395310891008.0000 - val_loss: 383065784320.0000 - val_mean_squared_error: 383065784320.0000\n",
      "Epoch 4/100\n",
      "1/1 [==============================] - 0s 75ms/step - loss: 383065784320.0000 - mean_squared_error: 383065784320.0000 - val_loss: 365929660416.0000 - val_mean_squared_error: 365929660416.0000\n",
      "Epoch 5/100\n",
      "1/1 [==============================] - 0s 52ms/step - loss: 365929660416.0000 - mean_squared_error: 365929660416.0000 - val_loss: 343388291072.0000 - val_mean_squared_error: 343388291072.0000\n",
      "Epoch 6/100\n",
      "1/1 [==============================] - 0s 65ms/step - loss: 343388291072.0000 - mean_squared_error: 343388291072.0000 - val_loss: 315230191616.0000 - val_mean_squared_error: 315230191616.0000\n",
      "Epoch 7/100\n",
      "1/1 [==============================] - 0s 58ms/step - loss: 315230191616.0000 - mean_squared_error: 315230191616.0000 - val_loss: 281568706560.0000 - val_mean_squared_error: 281568706560.0000\n",
      "Epoch 8/100\n",
      "1/1 [==============================] - 0s 75ms/step - loss: 281568706560.0000 - mean_squared_error: 281568706560.0000 - val_loss: 243040206848.0000 - val_mean_squared_error: 243040206848.0000\n",
      "Epoch 9/100\n",
      "1/1 [==============================] - 0s 52ms/step - loss: 243040239616.0000 - mean_squared_error: 243040239616.0000 - val_loss: 201099722752.0000 - val_mean_squared_error: 201099722752.0000\n",
      "Epoch 10/100\n",
      "1/1 [==============================] - 0s 49ms/step - loss: 201099722752.0000 - mean_squared_error: 201099722752.0000 - val_loss: 158390927360.0000 - val_mean_squared_error: 158390927360.0000\n",
      "Epoch 11/100\n",
      "1/1 [==============================] - 0s 48ms/step - loss: 158390927360.0000 - mean_squared_error: 158390927360.0000 - val_loss: 119211958272.0000 - val_mean_squared_error: 119211958272.0000\n",
      "Epoch 12/100\n",
      "1/1 [==============================] - 0s 46ms/step - loss: 119211958272.0000 - mean_squared_error: 119211958272.0000 - val_loss: 89969516544.0000 - val_mean_squared_error: 89969516544.0000\n",
      "Epoch 13/100\n",
      "1/1 [==============================] - 0s 43ms/step - loss: 89969524736.0000 - mean_squared_error: 89969524736.0000 - val_loss: 78894948352.0000 - val_mean_squared_error: 78894948352.0000\n",
      "Epoch 14/100\n",
      "1/1 [==============================] - 0s 48ms/step - loss: 78894948352.0000 - mean_squared_error: 78894948352.0000 - val_loss: 91844640768.0000 - val_mean_squared_error: 91844640768.0000\n",
      "Epoch 15/100\n",
      "1/1 [==============================] - 0s 54ms/step - loss: 91844632576.0000 - mean_squared_error: 91844632576.0000 - val_loss: 119330537472.0000 - val_mean_squared_error: 119330537472.0000\n",
      "Epoch 16/100\n",
      "1/1 [==============================] - 0s 45ms/step - loss: 119330537472.0000 - mean_squared_error: 119330537472.0000 - val_loss: 137215410176.0000 - val_mean_squared_error: 137215410176.0000\n",
      "Epoch 17/100\n",
      "1/1 [==============================] - 0s 45ms/step - loss: 137215410176.0000 - mean_squared_error: 137215410176.0000 - val_loss: 135626612736.0000 - val_mean_squared_error: 135626612736.0000\n",
      "Epoch 18/100\n",
      "1/1 [==============================] - 0s 45ms/step - loss: 135626612736.0000 - mean_squared_error: 135626612736.0000 - val_loss: 120855814144.0000 - val_mean_squared_error: 120855814144.0000\n",
      "Epoch 19/100\n",
      "1/1 [==============================] - 0s 45ms/step - loss: 120855814144.0000 - mean_squared_error: 120855814144.0000 - val_loss: 102696837120.0000 - val_mean_squared_error: 102696837120.0000\n",
      "Epoch 20/100\n",
      "1/1 [==============================] - 0s 45ms/step - loss: 102696837120.0000 - mean_squared_error: 102696837120.0000 - val_loss: 88223244288.0000 - val_mean_squared_error: 88223244288.0000\n",
      "Epoch 21/100\n",
      "1/1 [==============================] - 0s 51ms/step - loss: 88223236096.0000 - mean_squared_error: 88223236096.0000 - val_loss: 80434634752.0000 - val_mean_squared_error: 80434634752.0000\n",
      "Epoch 22/100\n",
      "1/1 [==============================] - 0s 56ms/step - loss: 80434634752.0000 - mean_squared_error: 80434634752.0000 - val_loss: 79040135168.0000 - val_mean_squared_error: 79040135168.0000\n",
      "Epoch 23/100\n",
      "1/1 [==============================] - 0s 42ms/step - loss: 79040135168.0000 - mean_squared_error: 79040135168.0000 - val_loss: 81986748416.0000 - val_mean_squared_error: 81986748416.0000\n",
      "Epoch 24/100\n",
      "1/1 [==============================] - 0s 48ms/step - loss: 81986756608.0000 - mean_squared_error: 81986756608.0000 - val_loss: 86848937984.0000 - val_mean_squared_error: 86848937984.0000\n",
      "Epoch 25/100\n",
      "1/1 [==============================] - 0s 40ms/step - loss: 86848937984.0000 - mean_squared_error: 86848937984.0000 - val_loss: 91647803392.0000 - val_mean_squared_error: 91647803392.0000\n",
      "Epoch 26/100\n",
      "1/1 [==============================] - 0s 54ms/step - loss: 91647803392.0000 - mean_squared_error: 91647803392.0000 - val_loss: 95119441920.0000 - val_mean_squared_error: 95119441920.0000\n",
      "Epoch 27/100\n",
      "1/1 [==============================] - 0s 49ms/step - loss: 95119441920.0000 - mean_squared_error: 95119441920.0000 - val_loss: 96665837568.0000 - val_mean_squared_error: 96665837568.0000\n",
      "Epoch 28/100\n",
      "1/1 [==============================] - 0s 52ms/step - loss: 96665853952.0000 - mean_squared_error: 96665853952.0000 - val_loss: 96200990720.0000 - val_mean_squared_error: 96200990720.0000\n",
      "Epoch 29/100\n",
      "1/1 [==============================] - 0s 51ms/step - loss: 96201007104.0000 - mean_squared_error: 96201007104.0000 - val_loss: 94003388416.0000 - val_mean_squared_error: 94003388416.0000\n",
      "Epoch 30/100\n",
      "1/1 [==============================] - 0s 46ms/step - loss: 94003388416.0000 - mean_squared_error: 94003388416.0000 - val_loss: 90602790912.0000 - val_mean_squared_error: 90602790912.0000\n",
      "Epoch 31/100\n",
      "1/1 [==============================] - 0s 48ms/step - loss: 90602790912.0000 - mean_squared_error: 90602790912.0000 - val_loss: 86689005568.0000 - val_mean_squared_error: 86689005568.0000\n",
      "Epoch 32/100\n",
      "1/1 [==============================] - 0s 46ms/step - loss: 86689013760.0000 - mean_squared_error: 86689013760.0000 - val_loss: 83016679424.0000 - val_mean_squared_error: 83016679424.0000\n",
      "Epoch 33/100\n",
      "1/1 [==============================] - 0s 48ms/step - loss: 83016679424.0000 - mean_squared_error: 83016679424.0000 - val_loss: 80283049984.0000 - val_mean_squared_error: 80283049984.0000\n",
      "Epoch 34/100\n",
      "1/1 [==============================] - 0s 49ms/step - loss: 80283049984.0000 - mean_squared_error: 80283049984.0000 - val_loss: 78973386752.0000 - val_mean_squared_error: 78973386752.0000\n",
      "Epoch 35/100\n",
      "1/1 [==============================] - 0s 60ms/step - loss: 78973386752.0000 - mean_squared_error: 78973386752.0000 - val_loss: 79202582528.0000 - val_mean_squared_error: 79202582528.0000\n",
      "Epoch 36/100\n",
      "1/1 [==============================] - 0s 49ms/step - loss: 79202582528.0000 - mean_squared_error: 79202582528.0000 - val_loss: 80625319936.0000 - val_mean_squared_error: 80625319936.0000\n",
      "Epoch 37/100\n",
      "1/1 [==============================] - 0s 45ms/step - loss: 80625319936.0000 - mean_squared_error: 80625319936.0000 - val_loss: 82509275136.0000 - val_mean_squared_error: 82509275136.0000\n",
      "Epoch 38/100\n",
      "1/1 [==============================] - 0s 46ms/step - loss: 82509275136.0000 - mean_squared_error: 82509275136.0000 - val_loss: 84005642240.0000 - val_mean_squared_error: 84005642240.0000\n",
      "Epoch 39/100\n",
      "1/1 [==============================] - 0s 40ms/step - loss: 84005642240.0000 - mean_squared_error: 84005642240.0000 - val_loss: 84509581312.0000 - val_mean_squared_error: 84509581312.0000\n",
      "Epoch 40/100\n",
      "1/1 [==============================] - 0s 44ms/step - loss: 84509581312.0000 - mean_squared_error: 84509581312.0000 - val_loss: 83897966592.0000 - val_mean_squared_error: 83897966592.0000\n",
      "Epoch 41/100\n",
      "1/1 [==============================] - 0s 45ms/step - loss: 83897966592.0000 - mean_squared_error: 83897966592.0000 - val_loss: 82509135872.0000 - val_mean_squared_error: 82509135872.0000\n",
      "Epoch 42/100\n",
      "1/1 [==============================] - 0s 46ms/step - loss: 82509135872.0000 - mean_squared_error: 82509135872.0000 - val_loss: 80913530880.0000 - val_mean_squared_error: 80913530880.0000\n",
      "Epoch 43/100\n",
      "1/1 [==============================] - 0s 45ms/step - loss: 80913530880.0000 - mean_squared_error: 80913530880.0000 - val_loss: 79636013056.0000 - val_mean_squared_error: 79636013056.0000\n",
      "Epoch 44/100\n",
      "1/1 [==============================] - 0s 55ms/step - loss: 79636013056.0000 - mean_squared_error: 79636013056.0000 - val_loss: 78971936768.0000 - val_mean_squared_error: 78971936768.0000\n",
      "Epoch 45/100\n",
      "1/1 [==============================] - 0s 54ms/step - loss: 78971944960.0000 - mean_squared_error: 78971944960.0000 - val_loss: 78944821248.0000 - val_mean_squared_error: 78944821248.0000\n",
      "Epoch 46/100\n",
      "1/1 [==============================] - 0s 49ms/step - loss: 78944821248.0000 - mean_squared_error: 78944821248.0000 - val_loss: 79373828096.0000 - val_mean_squared_error: 79373828096.0000\n",
      "Epoch 47/100\n",
      "1/1 [==============================] - 0s 48ms/step - loss: 79373828096.0000 - mean_squared_error: 79373828096.0000 - val_loss: 79986483200.0000 - val_mean_squared_error: 79986483200.0000\n",
      "Epoch 48/100\n",
      "1/1 [==============================] - 0s 54ms/step - loss: 79986483200.0000 - mean_squared_error: 79986483200.0000 - val_loss: 80523042816.0000 - val_mean_squared_error: 80523042816.0000\n",
      "Epoch 49/100\n",
      "1/1 [==============================] - 0s 45ms/step - loss: 80523042816.0000 - mean_squared_error: 80523042816.0000 - val_loss: 80805552128.0000 - val_mean_squared_error: 80805552128.0000\n",
      "Epoch 50/100\n",
      "1/1 [==============================] - 0s 45ms/step - loss: 80805552128.0000 - mean_squared_error: 80805552128.0000 - val_loss: 80766377984.0000 - val_mean_squared_error: 80766377984.0000\n",
      "Epoch 51/100\n",
      "1/1 [==============================] - 0s 42ms/step - loss: 80766369792.0000 - mean_squared_error: 80766369792.0000 - val_loss: 80443842560.0000 - val_mean_squared_error: 80443842560.0000\n",
      "Epoch 52/100\n",
      "1/1 [==============================] - 0s 43ms/step - loss: 80443842560.0000 - mean_squared_error: 80443842560.0000 - val_loss: 79953870848.0000 - val_mean_squared_error: 79953870848.0000\n",
      "Epoch 53/100\n",
      "1/1 [==============================] - 0s 42ms/step - loss: 79953870848.0000 - mean_squared_error: 79953870848.0000 - val_loss: 79447875584.0000 - val_mean_squared_error: 79447875584.0000\n",
      "Epoch 54/100\n",
      "1/1 [==============================] - 0s 46ms/step - loss: 79447875584.0000 - mean_squared_error: 79447875584.0000 - val_loss: 79065645056.0000 - val_mean_squared_error: 79065645056.0000\n",
      "Epoch 55/100\n",
      "1/1 [==============================] - 0s 48ms/step - loss: 79065645056.0000 - mean_squared_error: 79065645056.0000 - val_loss: 78893580288.0000 - val_mean_squared_error: 78893580288.0000\n",
      "Epoch 56/100\n",
      "1/1 [==============================] - 0s 46ms/step - loss: 78893572096.0000 - mean_squared_error: 78893572096.0000 - val_loss: 78940307456.0000 - val_mean_squared_error: 78940307456.0000\n",
      "Epoch 57/100\n",
      "1/1 [==============================] - 0s 51ms/step - loss: 78940307456.0000 - mean_squared_error: 78940307456.0000 - val_loss: 79138742272.0000 - val_mean_squared_error: 79138742272.0000\n",
      "Epoch 58/100\n",
      "1/1 [==============================] - 0s 55ms/step - loss: 79138734080.0000 - mean_squared_error: 79138734080.0000 - val_loss: 79376187392.0000 - val_mean_squared_error: 79376187392.0000\n",
      "Epoch 59/100\n",
      "1/1 [==============================] - 0s 47ms/step - loss: 79376187392.0000 - mean_squared_error: 79376187392.0000 - val_loss: 79541534720.0000 - val_mean_squared_error: 79541534720.0000\n",
      "Epoch 60/100\n",
      "1/1 [==============================] - 0s 45ms/step - loss: 79541534720.0000 - mean_squared_error: 79541534720.0000 - val_loss: 79569068032.0000 - val_mean_squared_error: 79569068032.0000\n",
      "Epoch 61/100\n",
      "1/1 [==============================] - 0s 48ms/step - loss: 79569076224.0000 - mean_squared_error: 79569076224.0000 - val_loss: 79458492416.0000 - val_mean_squared_error: 79458492416.0000\n",
      "Epoch 62/100\n",
      "1/1 [==============================] - 0s 51ms/step - loss: 79458492416.0000 - mean_squared_error: 79458492416.0000 - val_loss: 79264989184.0000 - val_mean_squared_error: 79264989184.0000\n",
      "Epoch 63/100\n",
      "1/1 [==============================] - 0s 42ms/step - loss: 79264989184.0000 - mean_squared_error: 79264989184.0000 - val_loss: 79066980352.0000 - val_mean_squared_error: 79066980352.0000\n",
      "Epoch 64/100\n",
      "1/1 [==============================] - 0s 51ms/step - loss: 79066980352.0000 - mean_squared_error: 79066980352.0000 - val_loss: 78930575360.0000 - val_mean_squared_error: 78930575360.0000\n",
      "Epoch 65/100\n",
      "1/1 [==============================] - 0s 51ms/step - loss: 78930575360.0000 - mean_squared_error: 78930575360.0000 - val_loss: 78886215680.0000 - val_mean_squared_error: 78886215680.0000\n",
      "Epoch 66/100\n",
      "1/1 [==============================] - 0s 53ms/step - loss: 78886215680.0000 - mean_squared_error: 78886215680.0000 - val_loss: 78924619776.0000 - val_mean_squared_error: 78924619776.0000\n",
      "Epoch 67/100\n",
      "1/1 [==============================] - 0s 49ms/step - loss: 78924619776.0000 - mean_squared_error: 78924619776.0000 - val_loss: 79008555008.0000 - val_mean_squared_error: 79008555008.0000\n",
      "Epoch 68/100\n",
      "1/1 [==============================] - 0s 42ms/step - loss: 79008555008.0000 - mean_squared_error: 79008555008.0000 - val_loss: 79092146176.0000 - val_mean_squared_error: 79092146176.0000\n",
      "Epoch 69/100\n",
      "1/1 [==============================] - 0s 48ms/step - loss: 79092146176.0000 - mean_squared_error: 79092146176.0000 - val_loss: 79139078144.0000 - val_mean_squared_error: 79139078144.0000\n",
      "Epoch 70/100\n",
      "1/1 [==============================] - 0s 54ms/step - loss: 79139078144.0000 - mean_squared_error: 79139078144.0000 - val_loss: 79133483008.0000 - val_mean_squared_error: 79133483008.0000\n",
      "Epoch 71/100\n",
      "1/1 [==============================] - 0s 52ms/step - loss: 79133483008.0000 - mean_squared_error: 79133483008.0000 - val_loss: 79081824256.0000 - val_mean_squared_error: 79081824256.0000\n",
      "Epoch 72/100\n",
      "1/1 [==============================] - 0s 51ms/step - loss: 79081824256.0000 - mean_squared_error: 79081824256.0000 - val_loss: 79006892032.0000 - val_mean_squared_error: 79006892032.0000\n",
      "Epoch 73/100\n",
      "1/1 [==============================] - 0s 46ms/step - loss: 79006900224.0000 - mean_squared_error: 79006900224.0000 - val_loss: 78936956928.0000 - val_mean_squared_error: 78936956928.0000\n",
      "Epoch 74/100\n",
      "1/1 [==============================] - 0s 51ms/step - loss: 78936956928.0000 - mean_squared_error: 78936956928.0000 - val_loss: 78894374912.0000 - val_mean_squared_error: 78894374912.0000\n",
      "Epoch 75/100\n",
      "1/1 [==============================] - 0s 49ms/step - loss: 78894374912.0000 - mean_squared_error: 78894374912.0000 - val_loss: 78887968768.0000 - val_mean_squared_error: 78887968768.0000\n",
      "Epoch 76/100\n",
      "1/1 [==============================] - 0s 54ms/step - loss: 78887968768.0000 - mean_squared_error: 78887968768.0000 - val_loss: 78911201280.0000 - val_mean_squared_error: 78911201280.0000\n",
      "Epoch 77/100\n",
      "1/1 [==============================] - 0s 43ms/step - loss: 78911201280.0000 - mean_squared_error: 78911201280.0000 - val_loss: 78946852864.0000 - val_mean_squared_error: 78946852864.0000\n",
      "Epoch 78/100\n",
      "1/1 [==============================] - 0s 48ms/step - loss: 78946852864.0000 - mean_squared_error: 78946852864.0000 - val_loss: 78975557632.0000 - val_mean_squared_error: 78975557632.0000\n",
      "Epoch 79/100\n",
      "1/1 [==============================] - 0s 50ms/step - loss: 78975557632.0000 - mean_squared_error: 78975557632.0000 - val_loss: 78984183808.0000 - val_mean_squared_error: 78984183808.0000\n",
      "Epoch 80/100\n",
      "1/1 [==============================] - 0s 51ms/step - loss: 78984192000.0000 - mean_squared_error: 78984192000.0000 - val_loss: 78970478592.0000 - val_mean_squared_error: 78970478592.0000\n",
      "Epoch 81/100\n",
      "1/1 [==============================] - 0s 45ms/step - loss: 78970478592.0000 - mean_squared_error: 78970478592.0000 - val_loss: 78942240768.0000 - val_mean_squared_error: 78942240768.0000\n",
      "Epoch 82/100\n",
      "1/1 [==============================] - 0s 45ms/step - loss: 78942240768.0000 - mean_squared_error: 78942240768.0000 - val_loss: 78912249856.0000 - val_mean_squared_error: 78912249856.0000\n",
      "Epoch 83/100\n",
      "1/1 [==============================] - 0s 55ms/step - loss: 78912249856.0000 - mean_squared_error: 78912249856.0000 - val_loss: 78891786240.0000 - val_mean_squared_error: 78891786240.0000\n",
      "Epoch 84/100\n",
      "1/1 [==============================] - 0s 54ms/step - loss: 78891786240.0000 - mean_squared_error: 78891786240.0000 - val_loss: 78886346752.0000 - val_mean_squared_error: 78886346752.0000\n",
      "Epoch 85/100\n",
      "1/1 [==============================] - 0s 44ms/step - loss: 78886346752.0000 - mean_squared_error: 78886346752.0000 - val_loss: 78894014464.0000 - val_mean_squared_error: 78894014464.0000\n",
      "Epoch 86/100\n",
      "1/1 [==============================] - 0s 51ms/step - loss: 78894014464.0000 - mean_squared_error: 78894014464.0000 - val_loss: 78908022784.0000 - val_mean_squared_error: 78908022784.0000\n",
      "Epoch 87/100\n",
      "1/1 [==============================] - 0s 46ms/step - loss: 78908022784.0000 - mean_squared_error: 78908022784.0000 - val_loss: 78920187904.0000 - val_mean_squared_error: 78920187904.0000\n",
      "Epoch 88/100\n",
      "1/1 [==============================] - 0s 51ms/step - loss: 78920196096.0000 - mean_squared_error: 78920196096.0000 - val_loss: 78924800000.0000 - val_mean_squared_error: 78924800000.0000\n",
      "Epoch 89/100\n",
      "1/1 [==============================] - 0s 42ms/step - loss: 78924800000.0000 - mean_squared_error: 78924800000.0000 - val_loss: 78920343552.0000 - val_mean_squared_error: 78920343552.0000\n",
      "Epoch 90/100\n",
      "1/1 [==============================] - 0s 42ms/step - loss: 78920343552.0000 - mean_squared_error: 78920343552.0000 - val_loss: 78909538304.0000 - val_mean_squared_error: 78909538304.0000\n",
      "Epoch 91/100\n",
      "1/1 [==============================] - 0s 41ms/step - loss: 78909530112.0000 - mean_squared_error: 78909530112.0000 - val_loss: 78897405952.0000 - val_mean_squared_error: 78897405952.0000\n",
      "Epoch 92/100\n",
      "1/1 [==============================] - 0s 39ms/step - loss: 78897405952.0000 - mean_squared_error: 78897405952.0000 - val_loss: 78888796160.0000 - val_mean_squared_error: 78888796160.0000\n",
      "Epoch 93/100\n",
      "1/1 [==============================] - 0s 44ms/step - loss: 78888796160.0000 - mean_squared_error: 78888796160.0000 - val_loss: 78886215680.0000 - val_mean_squared_error: 78886215680.0000\n",
      "Epoch 94/100\n",
      "1/1 [==============================] - 0s 37ms/step - loss: 78886215680.0000 - mean_squared_error: 78886215680.0000 - val_loss: 78889254912.0000 - val_mean_squared_error: 78889254912.0000\n",
      "Epoch 95/100\n",
      "1/1 [==============================] - 0s 42ms/step - loss: 78889254912.0000 - mean_squared_error: 78889254912.0000 - val_loss: 78895030272.0000 - val_mean_squared_error: 78895030272.0000\n",
      "Epoch 96/100\n",
      "1/1 [==============================] - 0s 39ms/step - loss: 78895030272.0000 - mean_squared_error: 78895030272.0000 - val_loss: 78900027392.0000 - val_mean_squared_error: 78900027392.0000\n",
      "Epoch 97/100\n",
      "1/1 [==============================] - 0s 36ms/step - loss: 78900027392.0000 - mean_squared_error: 78900027392.0000 - val_loss: 78901665792.0000 - val_mean_squared_error: 78901665792.0000\n",
      "Epoch 98/100\n",
      "1/1 [==============================] - 0s 42ms/step - loss: 78901665792.0000 - mean_squared_error: 78901665792.0000 - val_loss: 78899478528.0000 - val_mean_squared_error: 78899478528.0000\n",
      "Epoch 99/100\n",
      "1/1 [==============================] - 0s 42ms/step - loss: 78899478528.0000 - mean_squared_error: 78899478528.0000 - val_loss: 78894759936.0000 - val_mean_squared_error: 78894759936.0000\n",
      "Epoch 100/100\n",
      "1/1 [==============================] - 0s 37ms/step - loss: 78894768128.0000 - mean_squared_error: 78894768128.0000 - val_loss: 78889844736.0000 - val_mean_squared_error: 78889844736.0000\n"
     ]
    }
   ],
   "source": [
    "\n",
    "history = model.fit(X_train,y_train,epochs=100,verbose=1,batch_size=32,validation_data=(X_train,y_train))"
   ]
  },
  {
   "cell_type": "code",
   "execution_count": 42,
   "metadata": {},
   "outputs": [
    {
     "data": {
      "text/plain": [
       "dict_keys(['loss', 'mean_squared_error', 'val_loss', 'val_mean_squared_error'])"
      ]
     },
     "execution_count": 42,
     "metadata": {},
     "output_type": "execute_result"
    }
   ],
   "source": [
    "df_hist = pd.DataFrame.from_dict(history.history)\n",
    "history.params\n",
    "history.history.keys()\n"
   ]
  },
  {
   "cell_type": "code",
   "execution_count": 43,
   "metadata": {},
   "outputs": [
    {
     "data": {
      "image/png": "[encoded data removed]",
      "text/plain": [
       "<Figure size 432x288 with 1 Axes>"
      ]
     },
     "metadata": {
      "needs_background": "light"
     },
     "output_type": "display_data"
    }
   ],
   "source": [
    "df_hist['loss'].plot(style='b--',label='traning')\n",
    "df_hist['val_loss'].plot(style='r-',label='test')\n",
    "plt.xlabel('Epoch')\n",
    "plt.ylabel('Loss')\n",
    "plt.legend()\n",
    "plt.title('Loss')\n",
    "plt.show()"
   ]
  },
  {
   "cell_type": "code",
   "execution_count": 44,
   "metadata": {},
   "outputs": [
    {
     "data": {
      "image/png": "[encoded data removed]",
      "text/plain": [
       "<Figure size 432x288 with 1 Axes>"
      ]
     },
     "metadata": {
      "needs_background": "light"
     },
     "output_type": "display_data"
    }
   ],
   "source": [
    "df_hist['mean_squared_error'].plot(style='b--',label='traning')\n",
    "df_hist['val_mean_squared_error'].plot(style='r-',label='test')\n",
    "plt.xlabel('Epoch')\n",
    "plt.ylabel('mean_squared_error')\n",
    "plt.legend()\n",
    "plt.title('mean_squared_error')\n",
    "plt.show()"
   ]
  },
  {
   "cell_type": "code",
   "execution_count": 45,
   "metadata": {},
   "outputs": [
    {
     "name": "stdout",
     "output_type": "stream",
     "text": [
      "[78889844736.0, 78889844736.0]\n",
      "test loss 78889844736.0\n",
      "test MAE 78889844736.0\n"
     ]
    }
   ],
   "source": [
    "score = model.evaluate(X_train,y_train,verbose=0)\n",
    "print(score)\n",
    "print(\"test loss\",score[0])\n",
    "print(\"test MAE\",score[1])"
   ]
  },
  {
   "cell_type": "code",
   "execution_count": 46,
   "metadata": {},
   "outputs": [
    {
     "name": "stdout",
     "output_type": "stream",
     "text": [
      "1/1 [==============================] - 0s 121ms/step\n",
      "[[577703.25]\n",
      " [577878.8 ]\n",
      " [578054.3 ]\n",
      " [578229.9 ]\n",
      " [578405.5 ]\n",
      " [578581.1 ]\n",
      " [578756.6 ]\n",
      " [578932.4 ]\n",
      " [579107.9 ]\n",
      " [579283.5 ]\n",
      " [579458.94]\n",
      " [579634.6 ]\n",
      " [579810.1 ]\n",
      " [579985.8 ]\n",
      " [580161.4 ]\n",
      " [580336.94]\n",
      " [580512.5 ]\n",
      " [580688.1 ]\n",
      " [580863.56]\n",
      " [581039.4 ]\n",
      " [581214.75]\n",
      " [581390.5 ]\n",
      " [581566.06]\n",
      " [581741.7 ]\n",
      " [581917.1 ]\n",
      " [582092.8 ]\n",
      " [582268.2 ]\n",
      " [582443.94]]\n",
      "[ 1401464  1772848  2016512  2517721  2914422  3299610  3742545  4114325\n",
      "  4621471  4653954  5048515  5434675  5949424  6326961  6830761  7123458\n",
      "  7312964  7502470  7945519  8353896  8697120  9109388  9498096  9725018\n",
      "  9951939 10328870 10803353 11090624]\n"
     ]
    },
    {
     "data": {
      "image/png": "[encoded data removed]",
      "text/plain": [
       "<Figure size 432x288 with 1 Axes>"
      ]
     },
     "metadata": {
      "needs_background": "light"
     },
     "output_type": "display_data"
    }
   ],
   "source": [
    "\n",
    "\n",
    "y_hat=model.predict([X_test])\n",
    "print(y_hat)\n",
    "print(y_test)\n",
    "plt.scatter(X_train,y_train,marker='s',c='g',label='training set',linestyle='-')\n",
    "plt.scatter(X_test,y_test,marker='^',c='b',label='true',linestyle='-')\n",
    "plt.scatter(X_test,y_hat,marker='*',c='r',label='predict',linestyle=':',lw=0.5)\n",
    "plt.legend()\n",
    "plt.xlabel('day')\n",
    "plt.ylabel('sale')\n",
    "plt.show()"
   ]
  },
  {
   "cell_type": "code",
   "execution_count": 47,
   "metadata": {},
   "outputs": [
    {
     "data": {
      "image/png": "[encoded data removed]",
      "text/plain": [
       "<Figure size 432x288 with 1 Axes>"
      ]
     },
     "metadata": {
      "needs_background": "light"
     },
     "output_type": "display_data"
    }
   ],
   "source": [
    "kk = find_day(\"2019-01-01\",\"2019-01-03\",\"2019-01-31\")\n",
    "X_train = info[kk[0]:kk[1]+1,0].reshape(-1,1)\n",
    "y_train = info[kk[0]:kk[1]+1,1]\n",
    "X_test = info[kk[1]+1:kk[2]+1,0].reshape(-1,1)\n",
    "y_test = info[kk[1]+1:kk[2]+1,1]\n",
    "\n",
    "from sklearn.linear_model import LinearRegression\n",
    "model = LinearRegression()\n",
    "model.fit(X_train,y_train)\n",
    "y_hat = model.predict(X_test)\n",
    "plt.scatter(X_train,y_train,marker='s',c='g',label='training set',linestyle='-')\n",
    "plt.scatter(X_test,y_test,marker='^',c='b',label='true',linestyle='-')\n",
    "plt.plot(X_test,y_hat,marker='*',c='r',label='predict',linestyle=':',lw=0.5)\n",
    "plt.legend()\n",
    "plt.xlabel('day')\n",
    "plt.ylabel('sale')\n",
    "plt.show()\n"
   ]
  }
 ],
 "metadata": {
  "kernelspec": {
   "display_name": "Python 3.10.5 64-bit",
   "language": "python",
   "name": "python3"
  },
  "language_info": {
   "codemirror_mode": {
    "name": "ipython",
    "version": 3
   },
   "file_extension": ".py",
   "mimetype": "text/x-python",
   "name": "python",
   "nbconvert_exporter": "python",
   "pygments_lexer": "ipython3",
   "version": "3.10.5"
  },
  "orig_nbformat": 4,
  "vscode": {
   "interpreter": {
    "hash": "ca24f8275a328de2b3270a7cab77592329fa07a6c920079074a1e486941f897c"
   }
  }
 },
 "nbformat": 4,
 "nbformat_minor": 2
}
