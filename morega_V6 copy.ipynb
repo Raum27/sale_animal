{
 "cells": [
  {
   "cell_type": "code",
   "execution_count": 1,
   "metadata": {},
   "outputs": [],
   "source": [
    "import pandas as pd\n",
    "import numpy as np\n",
    "import seaborn as sn\n",
    "import datetime\n",
    "import matplotlib.pyplot as plt\n",
    "from sklearn.preprocessing import LabelEncoder\n",
    "\n",
    "data = pd.read_csv('Sales_masked.csv')\n",
    "# print(data.keys())\n",
    "# data.isnull().sum().to_frame()\n",
    "data.sort_values('DayKey', inplace=True)\n",
    "\n",
    "data_np = data.to_numpy()\n",
    "data_np\n",
    "\n",
    "\n",
    "\n",
    "# #product group 1 Area 1 channel 1\n",
    "def identifier(product, area, chanel):\n",
    "    G = []\n",
    "    for i in range(data_np.shape[0]):\n",
    "        if data_np[i, 1] == product and data_np[i, 2] == area and data_np[i, 3] == chanel:\n",
    "            G.append(data_np[i, :])\n",
    "    G = np.array(G)\n",
    "    # transform_d(G)  \n",
    "    return G\n"
   ]
  },
  {
   "cell_type": "code",
   "execution_count": 2,
   "metadata": {},
   "outputs": [],
   "source": [
    "#group Area chanel\n",
    "All_Group = []\n",
    "for dept in range(1,11):\n",
    "\n",
    "    for row in range(1,7):\n",
    "        for col in range(1):\n",
    "            # print('G'+str(dept),'A'+str(row),'C'+str(2),end=' '+'\\n')\n",
    "            All_Group.append(identifier('G'+str(dept),'A'+str(row),'C'+str(1)))\n",
    "\n",
    "    for row in range(1,7):\n",
    "        for col in range(1):\n",
    "            # print('G'+str(dept),'A'+str(row),'C'+str(2),end=' '+'\\n')\n",
    "            All_Group.append(identifier('G'+str(dept),'A'+str(row),'C'+str(2)))\n",
    "\n",
    "\n"
   ]
  },
  {
   "cell_type": "code",
   "execution_count": 3,
   "metadata": {},
   "outputs": [],
   "source": [
    "\n",
    "def gendate(final_day, start_day):\n",
    "    old_year = int(start_day[0:4])\n",
    "    recent_year = int(final_day[0:4])\n",
    "    # print(old_year,\" \",recent_year)\n",
    "    keep_y_m_d = []\n",
    "    for y in range(old_year, recent_year+1):\n",
    "        # print(y,end=''+'\\n')\n",
    "        for m in range(1, 13):\n",
    "            # print(m,end=' '+'\\n')\n",
    "            if m == 1 or m == 3 or m == 5 or m == 7 or m == 8 or m == 10 or m == 12: #ลงท้ายด้วย คม\n",
    "                for d in range(1, 32):\n",
    "                    # print(d,end=' ')\n",
    "                    y_m_d = str(datetime.datetime(y, m, d))\n",
    "                    keep_y_m_d.append(y_m_d[:10])\n",
    "                    if keep_y_m_d[-1] == final_day:\n",
    "                        keep_y_m_d = np.array(keep_y_m_d)\n",
    "                        return  keep_y_m_d\n",
    "\n",
    "            elif m == 2:\n",
    "                if y == 2012 or y == 2016 or y == 2020 :     \n",
    "                    for d in range(1, 30):\n",
    "                        y_m_d = str(datetime.datetime(y, m, d))\n",
    "                        keep_y_m_d.append(y_m_d[:10])\n",
    "                        if keep_y_m_d[-1] == final_day:\n",
    "                            keep_y_m_d = np.array(keep_y_m_d)\n",
    "                            return  keep_y_m_d\n",
    "                else:\n",
    "                    for d in range(1, 29):\n",
    "                        # print(d,end=' ')\n",
    "                        y_m_d = str(datetime.datetime(y, m, d))\n",
    "                        keep_y_m_d.append(y_m_d[:10])\n",
    "                        if keep_y_m_d[-1] == final_day:\n",
    "                            keep_y_m_d = np.array(keep_y_m_d)\n",
    "                            return  keep_y_m_d\n",
    "            else:                           #ลงท้ายด้วย ยน\n",
    "                for d in range(1, 31):\n",
    "                    # print(d,end=' ')\n",
    "                    y_m_d = str(datetime.datetime(y, m, d))\n",
    "                    keep_y_m_d.append(y_m_d[:10])\n",
    "                    if keep_y_m_d[-1] == final_day:\n",
    "                        keep_y_m_d = np.array(keep_y_m_d)\n",
    "                        return  keep_y_m_d"
   ]
  },
  {
   "cell_type": "code",
   "execution_count": 4,
   "metadata": {},
   "outputs": [],
   "source": [
    "\n",
    "le = LabelEncoder()\n",
    "def transform_now(data):\n",
    "    data[:,0]=le.fit_transform(data[:,0])\n",
    "\n",
    "def inverse_d_new(data):\n",
    "     xx = []\n",
    "     for i in range(data.shape[0]):\n",
    "          xx.append(data[i,0])\n",
    "     # print(xx)\n",
    "     data[:,0]=le.inverse_transform(xx)"
   ]
  },
  {
   "cell_type": "code",
   "execution_count": 5,
   "metadata": {},
   "outputs": [],
   "source": [
    "def process_fill(index_start,index_stop,info):\n",
    "    count_sub = 1 # count index[i] each value is 0 and bring it plot index or divide\n",
    "    dis_sub = 0  # find distance of value for example 10 _ _ _ 40 --> 40 - 10 = 30 = dis_sub\n",
    "    dist = 0  # dist = dis_sub/count_sub\n",
    "    size_info = index_stop-index_start\n",
    "    for i in range(index_start,index_stop):\n",
    "        if info[i] == 0:\n",
    "            count_sub += 1\n",
    "            # if it have a value in start day [10 0 0 0 0 0 0 0 0 0]\n",
    "            if info[index_start] != 0 and count_sub == size_info:\n",
    "                dist = info[index_start]\n",
    "                for j in range(count_sub-1):\n",
    "                    if info[j+1]==0:\n",
    "                       info[j+1] = float(info[j]+dist)\n",
    "                count_sub = 1\n",
    "            elif i+1 ==  index_stop: #  [0  0  0  0  50  0  0  0  0], [ 0  0  0  0 50  0  0  0  0  0] \n",
    "                if count_sub %2 !=0:\n",
    "                    dist = int(info[i-count_sub+1]/count_sub) \n",
    "                else:\n",
    "                    dist = int(info[i-count_sub+1]/(count_sub-1))\n",
    "                    if info[i-1] !=0:\n",
    "                        info[i] = float(int(info[i-1])+(int((info[i-1]*6)/100))) ;\"\"\"decrease when value in last day over \"\"\"\n",
    "                        break\n",
    "                for j in reversed(range(count_sub)):\n",
    "                    # pass\n",
    "                    if info[i-j] ==0:\n",
    "                        info[i-j] = float(info[i-j-1]+dist)\n",
    "                count_sub = 1\n",
    "        elif info[i] != 0 :\n",
    "            # if it have a value in final day [0 0 0 0 0 0 0 0 0 100]\n",
    "            if count_sub == size_info:\n",
    "                dist = int(info[i]/(count_sub))\n",
    "                for j in reversed(range(count_sub)):\n",
    "                    if info[j-1] ==0:\n",
    "                        info[j-1] = float(info[j]-dist)\n",
    "                count_sub = 1\n",
    "            # if it have a value in start and final day [10 0 0 0 0 0 0 0 0 100] OR [7,0,0,10,0,15,0,0,30] OR [0 20 0 40 0 60 0 80 0 100]\n",
    "            elif count_sub != 1:\n",
    "                dis_sub = info[i] if count_sub>i else info[i]-info[i-count_sub]\n",
    "                dist = int(dis_sub/count_sub)\n",
    "                for j in range(count_sub):\n",
    "                    if info[i-j-1] ==0 and i-j-1 >=0:\n",
    "                        info[i-j-1] = float(info[i-j]-dist)\n",
    "                count_sub = 1\n",
    "    return info\n",
    "    "
   ]
  },
  {
   "cell_type": "code",
   "execution_count": 6,
   "metadata": {},
   "outputs": [],
   "source": [
    "\"\"\"for fill value miss by distance\"\"\"\n",
    "def FILL_CUMSALES(get_group_by,info):\n",
    "    print(info.shape[0])\n",
    "    index_start =0\n",
    "    index_stop =0\n",
    "    for i in range(len(get_group_by)):\n",
    "        if i ==0:\n",
    "            sub_arr = info[0:get_group_by['Counts'][i],1]\n",
    "            sub_arr=process_fill(0,get_group_by['Counts'][i],sub_arr)\n",
    "            info[0:get_group_by['Counts'][i],1] =sub_arr\n",
    "            index_stop += get_group_by['Counts'][i]\n",
    "        else:\n",
    "            index_start +=get_group_by['Counts'][i-1]\n",
    "            index_stop +=get_group_by['Counts'][i]\n",
    "            sub_arr = info[index_start:index_stop,1]\n",
    "            sub_arr = process_fill(0,get_group_by['Counts'][i],sub_arr)\n",
    "            info[index_start:index_stop,1] = sub_arr\n"
   ]
  },
  {
   "cell_type": "code",
   "execution_count": 7,
   "metadata": {},
   "outputs": [],
   "source": [
    "def fill_value_miss(miss_data):\n",
    "    cols =['Day','Cumsales']\n",
    "    df = pd.DataFrame(miss_data,columns=cols)\n",
    "    sub_day = []\n",
    "    full_day = df.copy()\n",
    "    for i in range(len(df)):\n",
    "        sub_day.append(df['Day'][i][0:7]) \n",
    "    for i in range(len(df)):\n",
    "        df['Day'][i] = sub_day[i]\n",
    "    get_group_by = df.groupby('Day').size().reset_index(name='Counts')\n",
    "    full_day = full_day.to_numpy() \n",
    "    FILL_CUMSALES(get_group_by,full_day)\n",
    "    # for i in range(full_day.shape[0]):    \n",
    "    #     print(full_day[i,0],\" \",full_day[i,1])\n",
    "    transform_now(full_day)\n",
    "    return full_day\n",
    "\n",
    "def find_value_miss(G):\n",
    "    print(\"ProductGroup : {}, Area : {} ,Channel : {}\".format(G[0, 1], G[0, 2], G[0, 3]))\n",
    "    print(\"start : {}, end : {} \".format(G[0, 0], G[-1, 0]))\n",
    "    date_full = gendate(G[-1, 0], G[0, 0])\n",
    "    miss_data = [[0]*2 for i in range(date_full.shape[0])]\n",
    "    miss_data = np.array(miss_data, dtype=object)\n",
    "    count_miss_day = 0\n",
    "    origin_index = 0\n",
    "    for i in range(date_full.shape[0]):\n",
    "        if G[origin_index, 0] == date_full[i]:  # G[G == date_full[i]]:\n",
    "            miss_data[i][0] = G[origin_index, 0]\n",
    "            miss_data[i][1] = G[origin_index, 5]\n",
    "            origin_index += 1\n",
    "        else:\n",
    "            miss_data[i][0] = date_full[i]\n",
    "            miss_data[i][1] = 0.0 #np.nan #float('NaN') #None\n",
    "            count_miss_day += 1\n",
    "    miss_data_no_fill = miss_data.copy()\n",
    "    cleaned_data = fill_value_miss(miss_data)\n",
    "    print('missing CumSales of invidual day =', count_miss_day)\n",
    "    return cleaned_data,miss_data_no_fill\n"
   ]
  },
  {
   "cell_type": "code",
   "execution_count": 8,
   "metadata": {},
   "outputs": [],
   "source": [
    "def find_group(product,area,chanel):\n",
    "    stop_g = (12*product)-1\n",
    "    dept_g = stop_g - 11\n",
    "    row_1 = np.arange(0,6)\n",
    "    row_2 = np.arange(6,12)\n",
    "    if chanel == 1:\n",
    "        dept_g += row_1[area-1]   \n",
    "    else :\n",
    "        dept_g += row_2[area-1]\n",
    "    return dept_g \n",
    "\n"
   ]
  },
  {
   "cell_type": "code",
   "execution_count": 9,
   "metadata": {},
   "outputs": [],
   "source": [
    "\n",
    "def find_day(*Date):\n",
    "    DATE = []\n",
    "    month = [0,31,59,90,120,151,181,212,243,273,304,334,365]\n",
    "    month_1 = [0,31,60,91,121,152,183,213,244,274,305,335,366]\n",
    "    Year = [0,365,730,1096,1461,1826,2191,2557,2922,3287,3652,4018,4383]\n",
    "    for i in range(len(Date)):\n",
    "        match = 0\n",
    "        if Date[i][:4] == \"2012\" or Date[i][:4] == \"2016\" or Date[i][:4] == \"2020\":\n",
    "            match += Year[int(Date[i][2:4])-10]+month_1[int(Date[i][5:7])-1]+int(Date[i][-2:])-1\n",
    "        else:\n",
    "            match += Year[int(Date[i][2:4])-10]+month[int(Date[i][5:7])-1]+int(Date[i][-2:])-1\n",
    "        DATE.append(match)\n",
    "    return DATE"
   ]
  },
  {
   "cell_type": "code",
   "execution_count": 10,
   "metadata": {},
   "outputs": [
    {
     "name": "stdout",
     "output_type": "stream",
     "text": [
      "ProductGroup : G5, Area : A1 ,Channel : C1\n",
      "start : 2010-01-02, end : 2022-05-31 \n",
      "4534\n",
      "missing CumSales of invidual day = 269\n"
     ]
    }
   ],
   "source": [
    "A=find_group(5,1,1)\n",
    "info,before = find_value_miss(All_Group[A])\n",
    "\n"
   ]
  },
  {
   "cell_type": "code",
   "execution_count": 11,
   "metadata": {},
   "outputs": [],
   "source": [
    "\n",
    "kk = find_day(\"2019-01-01\",\"2019-01-03\",\"2019-01-31\")\n",
    "X_train = info[kk[0]:kk[1]+1,0].astype(np.int64)\n",
    "y_train = info[kk[0]:kk[1]+1,1].astype(np.int64)\n",
    "X_test = info[kk[1]+1:kk[2]+1,0].astype(np.int64)\n",
    "y_test = info[kk[1]+1:kk[2]+1,1].astype(np.int64)\n",
    "\n"
   ]
  },
  {
   "cell_type": "code",
   "execution_count": 12,
   "metadata": {},
   "outputs": [],
   "source": [
    "from tensorflow.keras import Sequential\n",
    "from tensorflow.keras.layers import Dense\n",
    "from tensorflow.keras.regularizers import L2\n",
    "import tensorflow as tf\n",
    "model = None\n",
    "model = Sequential(name='godzilla')\n",
    "model.add(Dense(32,activation='relu',input_shape=(1,),name='Layer1',kernel_regularizer=L2(0.01)))\n",
    "model.add(Dense(32,activation='relu',name='Layer2',kernel_regularizer=L2(0.01)))\n",
    "model.add(Dense(1,activation='linear',name='Output'))"
   ]
  },
  {
   "cell_type": "code",
   "execution_count": 13,
   "metadata": {},
   "outputs": [
    {
     "name": "stdout",
     "output_type": "stream",
     "text": [
      "Model: \"godzilla\"\n",
      "_________________________________________________________________\n",
      " Layer (type)                Output Shape              Param #   \n",
      "=================================================================\n",
      " Layer1 (Dense)              (None, 32)                64        \n",
      "                                                                 \n",
      " Layer2 (Dense)              (None, 32)                1056      \n",
      "                                                                 \n",
      " Output (Dense)              (None, 1)                 33        \n",
      "                                                                 \n",
      "=================================================================\n",
      "Total params: 1,153\n",
      "Trainable params: 1,153\n",
      "Non-trainable params: 0\n",
      "_________________________________________________________________\n"
     ]
    }
   ],
   "source": [
    "model.summary()"
   ]
  },
  {
   "cell_type": "code",
   "execution_count": 14,
   "metadata": {},
   "outputs": [
    {
     "data": {
      "text/plain": [
       "(None, 1)"
      ]
     },
     "execution_count": 14,
     "metadata": {},
     "output_type": "execute_result"
    }
   ],
   "source": [
    "model.output_shape"
   ]
  },
  {
   "cell_type": "code",
   "execution_count": 15,
   "metadata": {},
   "outputs": [],
   "source": [
    "adam_smash = tf.keras.optimizers.Adam(learning_rate=0.1)\n",
    "model.compile(optimizer=adam_smash  ,loss='MeanSquaredError',metrics=['MeanSquaredError'])"
   ]
  },
  {
   "cell_type": "code",
   "execution_count": 16,
   "metadata": {},
   "outputs": [
    {
     "name": "stdout",
     "output_type": "stream",
     "text": [
      "Epoch 1/12\n",
      "1/1 [==============================] - 1s 803ms/step - loss: 170097836032.0000 - mean_squared_error: 170097836032.0000 - val_loss: 881505599488.0000 - val_mean_squared_error: 881505599488.0000\n",
      "Epoch 2/12\n",
      "1/1 [==============================] - 0s 29ms/step - loss: 167028719616.0000 - mean_squared_error: 167028719616.0000 - val_loss: 865488928768.0000 - val_mean_squared_error: 865488928768.0000\n",
      "Epoch 3/12\n",
      "1/1 [==============================] - 0s 27ms/step - loss: 160467484672.0000 - mean_squared_error: 160467484672.0000 - val_loss: 837384470528.0000 - val_mean_squared_error: 837384470528.0000\n",
      "Epoch 4/12\n",
      "1/1 [==============================] - 0s 26ms/step - loss: 149168128000.0000 - mean_squared_error: 149168128000.0000 - val_loss: 790015115264.0000 - val_mean_squared_error: 790015115264.0000\n",
      "Epoch 5/12\n",
      "1/1 [==============================] - 0s 26ms/step - loss: 130773860352.0000 - mean_squared_error: 130773860352.0000 - val_loss: 719326740480.0000 - val_mean_squared_error: 719326740480.0000\n",
      "Epoch 6/12\n",
      "1/1 [==============================] - 0s 28ms/step - loss: 104988680192.0000 - mean_squared_error: 104988680192.0000 - val_loss: 620593020928.0000 - val_mean_squared_error: 620593020928.0000\n",
      "Epoch 7/12\n",
      "1/1 [==============================] - 0s 28ms/step - loss: 72841920512.0000 - mean_squared_error: 72841920512.0000 - val_loss: 490917593088.0000 - val_mean_squared_error: 490917593088.0000\n",
      "Epoch 8/12\n",
      "1/1 [==============================] - 0s 27ms/step - loss: 39274225664.0000 - mean_squared_error: 39274225664.0000 - val_loss: 336668459008.0000 - val_mean_squared_error: 336668459008.0000\n",
      "Epoch 9/12\n",
      "1/1 [==============================] - 0s 28ms/step - loss: 17846259712.0000 - mean_squared_error: 17846259712.0000 - val_loss: 187526348800.0000 - val_mean_squared_error: 187526348800.0000\n",
      "Epoch 10/12\n",
      "1/1 [==============================] - 0s 27ms/step - loss: 31009312768.0000 - mean_squared_error: 31009312768.0000 - val_loss: 126892335104.0000 - val_mean_squared_error: 126892335104.0000\n",
      "Epoch 11/12\n",
      "1/1 [==============================] - 0s 25ms/step - loss: 55073353728.0000 - mean_squared_error: 55073353728.0000 - val_loss: 137143058432.0000 - val_mean_squared_error: 137143058432.0000\n",
      "Epoch 12/12\n",
      "1/1 [==============================] - 0s 26ms/step - loss: 49769930752.0000 - mean_squared_error: 49769930752.0000 - val_loss: 183143350272.0000 - val_mean_squared_error: 183143350272.0000\n"
     ]
    }
   ],
   "source": [
    "\n",
    "history = model.fit(X_train,y_train,epochs=12,verbose=1,batch_size=32,validation_split=0.25)"
   ]
  },
  {
   "cell_type": "code",
   "execution_count": 17,
   "metadata": {},
   "outputs": [
    {
     "data": {
      "text/plain": [
       "dict_keys(['loss', 'mean_squared_error', 'val_loss', 'val_mean_squared_error'])"
      ]
     },
     "execution_count": 17,
     "metadata": {},
     "output_type": "execute_result"
    }
   ],
   "source": [
    "df_hist = pd.DataFrame.from_dict(history.history)\n",
    "history.params\n",
    "history.history.keys()\n"
   ]
  },
  {
   "cell_type": "code",
   "execution_count": 18,
   "metadata": {},
   "outputs": [
    {
     "data": {
      "image/png": "[encoded data removed]",
      "text/plain": [
       "<Figure size 432x288 with 1 Axes>"
      ]
     },
     "metadata": {
      "needs_background": "light"
     },
     "output_type": "display_data"
    }
   ],
   "source": [
    "df_hist['loss'].plot(style='b--',label='traning')\n",
    "df_hist['val_loss'].plot(style='r-',label='test')\n",
    "plt.xlabel('Epoch')\n",
    "plt.ylabel('Loss')\n",
    "plt.legend()\n",
    "plt.title('Loss')\n",
    "plt.show()"
   ]
  },
  {
   "cell_type": "code",
   "execution_count": 19,
   "metadata": {},
   "outputs": [
    {
     "data": {
      "image/png": "[encoded data removed]",
      "text/plain": [
       "<Figure size 432x288 with 1 Axes>"
      ]
     },
     "metadata": {
      "needs_background": "light"
     },
     "output_type": "display_data"
    }
   ],
   "source": [
    "df_hist['mean_squared_error'].plot(style='b--',label='traning')\n",
    "df_hist['val_mean_squared_error'].plot(style='r-',label='test')\n",
    "plt.xlabel('Epoch')\n",
    "plt.ylabel('mean_squared_error')\n",
    "plt.legend()\n",
    "plt.title('mean_squared_error')\n",
    "plt.show()"
   ]
  },
  {
   "cell_type": "code",
   "execution_count": 20,
   "metadata": {},
   "outputs": [
    {
     "name": "stdout",
     "output_type": "stream",
     "text": [
      "[82540478464.0, 82540478464.0]\n",
      "test loss 82540478464.0\n",
      "test MAE 82540478464.0\n"
     ]
    }
   ],
   "source": [
    "score = model.evaluate(X_train,y_train,verbose=0)\n",
    "print(score)\n",
    "print(\"test loss\",score[0])\n",
    "print(\"test MAE\",score[1])"
   ]
  },
  {
   "cell_type": "code",
   "execution_count": 21,
   "metadata": {},
   "outputs": [
    {
     "name": "stdout",
     "output_type": "stream",
     "text": [
      "1/1 [==============================] - 0s 84ms/step\n",
      "[[515304.03]\n",
      " [515460.6 ]\n",
      " [515617.22]\n",
      " [515773.78]\n",
      " [515930.34]\n",
      " [516086.97]\n",
      " [516243.6 ]\n",
      " [516400.12]\n",
      " [516556.72]\n",
      " [516713.34]\n",
      " [516869.9 ]\n",
      " [517026.5 ]\n",
      " [517183.06]\n",
      " [517339.66]\n",
      " [517496.22]\n",
      " [517652.8 ]\n",
      " [517809.4 ]\n",
      " [517966.  ]\n",
      " [518122.56]\n",
      " [518279.16]\n",
      " [518435.75]\n",
      " [518592.3 ]\n",
      " [518748.94]\n",
      " [518905.53]\n",
      " [519062.1 ]\n",
      " [519218.66]\n",
      " [519375.25]\n",
      " [519531.84]]\n",
      "[ 1401464  1772848  2016512  2517721  2914422  3299610  3742545  4114325\n",
      "  4621471  4653954  5048515  5434675  5949424  6326961  6830761  7123458\n",
      "  7312964  7502470  7945519  8353896  8697120  9109388  9498096  9725018\n",
      "  9951939 10328870 10803353 11090624]\n"
     ]
    },
    {
     "data": {
      "image/png": "[encoded data removed]",
      "text/plain": [
       "<Figure size 432x288 with 1 Axes>"
      ]
     },
     "metadata": {
      "needs_background": "light"
     },
     "output_type": "display_data"
    }
   ],
   "source": [
    "\n",
    "\n",
    "y_hat=model.predict([X_test])\n",
    "print(y_hat)\n",
    "print(y_test)\n",
    "plt.scatter(X_train,y_train,marker='s',c='g',label='training set',linestyle='-')\n",
    "plt.scatter(X_test,y_test,marker='^',c='b',label='true',linestyle='-')\n",
    "plt.scatter(X_test,y_hat,marker='*',c='r',label='predict',linestyle=':',lw=0.5)\n",
    "plt.legend()\n",
    "plt.xlabel('day')\n",
    "plt.ylabel('sale')\n",
    "plt.show()"
   ]
  },
  {
   "cell_type": "code",
   "execution_count": 22,
   "metadata": {},
   "outputs": [
    {
     "data": {
      "image/png": "[encoded data removed]",
      "text/plain": [
       "<Figure size 432x288 with 1 Axes>"
      ]
     },
     "metadata": {
      "needs_background": "light"
     },
     "output_type": "display_data"
    }
   ],
   "source": [
    "kk = find_day(\"2019-01-01\",\"2019-01-03\",\"2019-01-31\")\n",
    "X_train = info[kk[0]:kk[1]+1,0].reshape(-1,1)\n",
    "y_train = info[kk[0]:kk[1]+1,1]\n",
    "X_test = info[kk[1]+1:kk[2]+1,0].reshape(-1,1)\n",
    "y_test = info[kk[1]+1:kk[2]+1,1]\n",
    "\n",
    "from sklearn.linear_model import LinearRegression\n",
    "model = LinearRegression()\n",
    "model.fit(X_train,y_train)\n",
    "y_hat = model.predict(X_test)\n",
    "plt.scatter(X_train,y_train,marker='s',c='g',label='training set',linestyle='-')\n",
    "plt.scatter(X_test,y_test,marker='^',c='b',label='true',linestyle='-')\n",
    "plt.plot(X_test,y_hat,marker='*',c='r',label='predict',linestyle=':',lw=0.5)\n",
    "plt.legend()\n",
    "plt.xlabel('day')\n",
    "plt.ylabel('sale')\n",
    "plt.show()\n"
   ]
  }
 ],
 "metadata": {
  "kernelspec": {
   "display_name": "Python 3.10.5 64-bit",
   "language": "python",
   "name": "python3"
  },
  "language_info": {
   "codemirror_mode": {
    "name": "ipython",
    "version": 3
   },
   "file_extension": ".py",
   "mimetype": "text/x-python",
   "name": "python",
   "nbconvert_exporter": "python",
   "pygments_lexer": "ipython3",
   "version": "3.10.5"
  },
  "orig_nbformat": 4,
  "vscode": {
   "interpreter": {
    "hash": "ca24f8275a328de2b3270a7cab77592329fa07a6c920079074a1e486941f897c"
   }
  }
 },
 "nbformat": 4,
 "nbformat_minor": 2
}
