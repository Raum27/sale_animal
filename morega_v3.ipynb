{
 "cells": [
  {
   "cell_type": "code",
   "execution_count": 281,
   "metadata": {},
   "outputs": [],
   "source": [
    "import pandas as pd\n",
    "import numpy as np\n",
    "import datetime\n",
    "import matplotlib.pyplot as plt\n",
    "from sklearn.preprocessing import LabelEncoder\n",
    "\n",
    "data = pd.read_csv('Sales_masked.csv')\n",
    "# print(data.keys())\n",
    "# data.isnull().sum().to_frame()\n",
    "data.sort_values('DayKey', inplace=True)\n",
    "\n",
    "data_np = data.to_numpy()\n",
    "data_np\n",
    "\n",
    "keep_le = []\n",
    "\n",
    "# #product group 1 Area 1 channel 1\n",
    "def identifier(product, area, chanel):\n",
    "    G = []\n",
    "    for i in range(data_np.shape[0]):\n",
    "        if data_np[i, 1] == product and data_np[i, 2] == area and data_np[i, 3] == chanel:\n",
    "            G.append(data_np[i, :])\n",
    "    G = np.array(G)\n",
    "    # transform_d(G)  \n",
    "    return G\n",
    "\n"
   ]
  },
  {
   "cell_type": "code",
   "execution_count": 282,
   "metadata": {},
   "outputs": [],
   "source": [
    "#group Area chanel\n",
    "All_Group = []\n",
    "for dept in range(1,11):\n",
    "\n",
    "    for row in range(1,7):\n",
    "        for col in range(1):\n",
    "            # print('G'+str(dept),'A'+str(row),'C'+str(2),end=' '+'\\n')\n",
    "            All_Group.append(identifier('G'+str(dept),'A'+str(row),'C'+str(1)))\n",
    "\n",
    "    for row in range(1,7):\n",
    "        for col in range(1):\n",
    "            # print('G'+str(dept),'A'+str(row),'C'+str(2),end=' '+'\\n')\n",
    "            All_Group.append(identifier('G'+str(dept),'A'+str(row),'C'+str(2)))\n",
    "\n",
    "\n"
   ]
  },
  {
   "cell_type": "code",
   "execution_count": 283,
   "metadata": {},
   "outputs": [],
   "source": [
    "\n",
    "def gendate(final_day, start_day):\n",
    "    old_year = int(start_day[0:4])\n",
    "    recent_year = int(final_day[0:4])\n",
    "    # print(old_year,\" \",recent_year)\n",
    "    keep_y_m_d = []\n",
    "    for y in range(old_year, recent_year+1):\n",
    "        # print(y,end=''+'\\n')\n",
    "        for m in range(1, 13):\n",
    "            # print(m,end=' '+'\\n')\n",
    "            if m == 1 or m == 3 or m == 5 or m == 7 or m == 8 or m == 10 or m == 12: #ลงท้ายด้วย คม\n",
    "                for d in range(1, 32):\n",
    "                    # print(d,end=' ')\n",
    "                    y_m_d = str(datetime.datetime(y, m, d))\n",
    "                    keep_y_m_d.append(y_m_d[:10])\n",
    "                    if keep_y_m_d[-1] == final_day:\n",
    "                        keep_y_m_d = np.array(keep_y_m_d)\n",
    "                        return  keep_y_m_d\n",
    "\n",
    "            elif m == 2:\n",
    "                if y == 2012 or y == 2016 or y == 2020 :     \n",
    "                    for d in range(1, 30):\n",
    "                        y_m_d = str(datetime.datetime(y, m, d))\n",
    "                        keep_y_m_d.append(y_m_d[:10])\n",
    "                        if keep_y_m_d[-1] == final_day:\n",
    "                            keep_y_m_d = np.array(keep_y_m_d)\n",
    "                            return  keep_y_m_d\n",
    "                else:\n",
    "                    for d in range(1, 29):\n",
    "                        # print(d,end=' ')\n",
    "                        y_m_d = str(datetime.datetime(y, m, d))\n",
    "                        keep_y_m_d.append(y_m_d[:10])\n",
    "                        if keep_y_m_d[-1] == final_day:\n",
    "                            keep_y_m_d = np.array(keep_y_m_d)\n",
    "                            return  keep_y_m_d\n",
    "            else:                           #ลงท้ายด้วย ยน\n",
    "                for d in range(1, 31):\n",
    "                    # print(d,end=' ')\n",
    "                    y_m_d = str(datetime.datetime(y, m, d))\n",
    "                    keep_y_m_d.append(y_m_d[:10])\n",
    "                    if keep_y_m_d[-1] == final_day:\n",
    "                        keep_y_m_d = np.array(keep_y_m_d)\n",
    "                        return  keep_y_m_d"
   ]
  },
  {
   "cell_type": "code",
   "execution_count": 284,
   "metadata": {},
   "outputs": [],
   "source": [
    "\n",
    "keep_en = []\n",
    "def transform_now(data):\n",
    "    keep_en.append(LabelEncoder())\n",
    "    data[:,0]=keep_en[0].fit_transform(data[:,0])\n"
   ]
  },
  {
   "cell_type": "code",
   "execution_count": 285,
   "metadata": {},
   "outputs": [],
   "source": [
    "    \n",
    "def fill_value_miss(miss_data):\n",
    "#     print(miss_data)\n",
    "    df = pd.DataFrame(miss_data)\n",
    "#     print(df.isnull().sum())\n",
    "    df.fillna(method='backfill',inplace=True)\n",
    "    df = df.to_numpy()\n",
    "    transform_now(df)\n",
    "    return df\n",
    "\n",
    "def inverse_d_new(data):\n",
    "     xx = []\n",
    "     for i in range(data.shape[0]):\n",
    "          xx.append(data[i,0])\n",
    "     data[:,0]=keep_en[0].inverse_transform(xx)\n",
    "\n",
    "\n",
    "\n",
    "\n",
    "def find_value_miss(G):\n",
    "     \"DayKey\",\"ProductGroup\",\"Area\",\"Channel\"\n",
    "     print(\"ProductGroup : {}, Area : {} ,Channel : {}\".format(G[0,1],G[0,2],G[0,3]))\n",
    "     print(\"start : {}, end : {} \".format(G[0, 0],G[-1, 0]))\n",
    "     date_full = gendate(G[-1, 0], G[0, 0])\n",
    "     miss_data = [[0]*2 for i in range(date_full.shape[0])]\n",
    "     miss_data = np.array(miss_data,dtype=object)\n",
    "     count_miss_day = 0\n",
    "     origin_index = 0\n",
    "     for i in range(date_full.shape[0]):  \n",
    "          if G[origin_index,0] == date_full[i]:   #G[G == date_full[i]]:\n",
    "               miss_data [i][0] = G[origin_index,0]\n",
    "               miss_data [i][1] = G[origin_index,5]\n",
    "               origin_index  +=1\n",
    "          else :\n",
    "               miss_data [i][0] = date_full[i]\n",
    "               miss_data [i][1] = None\n",
    "               count_miss_day += 1\n",
    "     # print(miss_data)\n",
    "     miss_data = fill_value_miss(miss_data)\n",
    "     # print('missing CumSales of invidual day =',count_miss_day)\n",
    "     return miss_data"
   ]
  },
  {
   "cell_type": "code",
   "execution_count": 286,
   "metadata": {},
   "outputs": [],
   "source": [
    "def find_group(product,area,chanel):\n",
    "    stop_g = (12*product)-1\n",
    "    dept_g = stop_g - 11\n",
    "    row_1 = np.arange(0,6)\n",
    "    row_2 = np.arange(6,12)\n",
    "    if chanel == 1:\n",
    "        dept_g += row_1[area-1]   \n",
    "    else :\n",
    "        dept_g += row_2[area-1]\n",
    "    return dept_g \n",
    "\n"
   ]
  },
  {
   "cell_type": "code",
   "execution_count": 287,
   "metadata": {},
   "outputs": [
    {
     "name": "stdout",
     "output_type": "stream",
     "text": [
      "ProductGroup : G5, Area : A1 ,Channel : C1\n",
      "start : 2010-01-02, end : 2022-05-31 \n",
      "[6833094.12727273]\n",
      "0.9870334845564981\n"
     ]
    }
   ],
   "source": [
    "##### month 1 ##### LinearRegression\n",
    "\n",
    "A=find_group(5,1,1)\n",
    "info = find_value_miss(All_Group[A])\n",
    "plot_st_day = []\n",
    "plot_stop_day = []\n",
    "plot_true_day =[]\n",
    "plot_true_sale =[]\n",
    "plot_pred = []\n",
    "# print(info[:30])\n",
    "# print(All_Group[A][:30]) # 0 to 30\n",
    "from sklearn.linear_model import LinearRegression\n",
    "from sklearn.metrics import mean_absolute_error\n",
    "from sklearn.metrics import mean_squared_error\n",
    "\n",
    "x_train = info[:10,0]#10 วัน\n",
    "y_train = info[:10,1]\n",
    "dtree = LinearRegression()\n",
    "dtree.fit(x_train.reshape(-1,1),y_train)\n",
    "\n",
    "x = info[30,0]\n",
    "pred=dtree.predict([[x]])\n",
    "\n",
    "\n",
    "print(pred)\n",
    "print(dtree.score(x_train.reshape(-1,1),y_train))\n",
    "info[30,1]\n",
    "\n",
    "\n",
    "maeLinear = []\n",
    "mseLinear = []\n",
    "for i in range (1):\n",
    "    maeLinear.append(mean_absolute_error([info[30,1]],pred))\n",
    "for i in range (1):\n",
    "    mseLinear.append(mean_squared_error([info[30,1]],pred))\n",
    "plot_st_day.append(x_train)\n",
    "plot_stop_day.append(y_train)\n",
    "plot_true_day.append(x)\n",
    "plot_true_sale.append(info[30,1])\n",
    "plot_pred.append(pred)\n"
   ]
  },
  {
   "cell_type": "code",
   "execution_count": 288,
   "metadata": {},
   "outputs": [
    {
     "name": "stdout",
     "output_type": "stream",
     "text": [
      "[6143987.16363636]\n",
      "0.995212653093003\n"
     ]
    }
   ],
   "source": [
    "##### month 2 ##### linearRegression\n",
    "\n",
    "# print(info[31:41])\n",
    "# print(All_Group[A][30:56]) # 30 to 56\n",
    "\n",
    "\n",
    "x_train = info[31:41,0]#10 วัน\n",
    "y_train = info[31:41,1]\n",
    "dtree = LinearRegression()\n",
    "dtree.fit(x_train.reshape(-1,1),y_train)\n",
    "\n",
    "x = info[58,0]\n",
    "pred=dtree.predict([[x]])\n",
    "\n",
    "\n",
    "print(pred)\n",
    "print(dtree.score(x_train.reshape(-1,1),y_train))\n",
    "info[58,1]\n",
    "\n",
    "for i in range (1):\n",
    "    maeLinear.append(mean_absolute_error([info[58,1]],pred))\n",
    "for i in range (1):\n",
    "    mseLinear.append(mean_squared_error([info[58,1]],pred))\n",
    "\n",
    "plot_st_day.append(x_train)\n",
    "plot_stop_day.append(y_train)\n",
    "plot_true_day.append(x)\n",
    "plot_true_sale.append(info[58,1])\n",
    "plot_pred.append(pred)"
   ]
  },
  {
   "cell_type": "code",
   "execution_count": 289,
   "metadata": {},
   "outputs": [
    {
     "name": "stdout",
     "output_type": "stream",
     "text": [
      "[6038259.10909091]\n",
      "0.9926201003402282\n"
     ]
    }
   ],
   "source": [
    "##### month 3 ##### linearRegression\n",
    "\n",
    "# print(info[59:90])\n",
    "# print(All_Group[A][30:56]) # 30 to 56\n",
    "\n",
    "x_train = info[59:69,0]#10 วัน\n",
    "y_train = info[59:69,1]\n",
    "dtree =  LinearRegression   ()\n",
    "dtree.fit(x_train.reshape(-1,1),y_train)\n",
    "\n",
    "x = info[89,0]\n",
    "pred=dtree.predict([[x]])\n",
    "\n",
    "\n",
    "print(pred)\n",
    "print(dtree.score(x_train.reshape(-1,1),y_train))\n",
    "info[89,1]\n",
    "# print(info[89])\n",
    "# print(info[59:69])\n",
    "\n",
    "for i in range (1):\n",
    "    maeLinear.append(mean_absolute_error([info[89,1]],pred))\n",
    "for i in range (1):\n",
    "    mseLinear.append(mean_squared_error([info[89,1]],pred))\n",
    "\n",
    "plot_st_day.append(x_train)\n",
    "plot_stop_day.append(y_train)\n",
    "plot_true_day.append(x)\n",
    "plot_true_sale.append(info[89,1])\n",
    "plot_pred.append(pred)"
   ]
  },
  {
   "cell_type": "code",
   "execution_count": 290,
   "metadata": {},
   "outputs": [
    {
     "name": "stdout",
     "output_type": "stream",
     "text": [
      "[7520217.26060606]\n",
      "0.9923663618578752\n"
     ]
    }
   ],
   "source": [
    "##### month 4 ##### linearRegression\n",
    "\n",
    "# print(info[90:120])\n",
    "# print(All_Group[A][30:56]) # 30 to 56\n",
    "\n",
    "\n",
    "x_train = info[90:100,0]#10 วัน\n",
    "y_train = info[90:100,1]\n",
    "dtree = LinearRegression()\n",
    "dtree.fit(x_train.reshape(-1,1),y_train)\n",
    "\n",
    "x = info[119,0]\n",
    "pred=dtree.predict([[x]])\n",
    "\n",
    "\n",
    "print(pred)\n",
    "print(dtree.score(x_train.reshape(-1,1),y_train))\n",
    "info[119,1]\n",
    "# print(info[90:100])\n",
    "\n",
    "for i in range (1):\n",
    "    maeLinear.append(mean_absolute_error([info[119,1]],pred))\n",
    "for i in range (1):\n",
    "    mseLinear.append(mean_squared_error([info[119,1]],pred))\n",
    "\n",
    "plot_st_day.append(x_train)\n",
    "plot_stop_day.append(y_train)\n",
    "plot_true_day.append(x)\n",
    "plot_true_sale.append(info[119,1])\n",
    "plot_pred.append(pred)"
   ]
  },
  {
   "cell_type": "code",
   "execution_count": 291,
   "metadata": {},
   "outputs": [
    {
     "name": "stdout",
     "output_type": "stream",
     "text": [
      "[5999556.7030303]\n",
      "0.9868147551193365\n"
     ]
    }
   ],
   "source": [
    "##### month 5 ##### linearRegression\n",
    "\n",
    "# print(info[121:151])\n",
    "# print(All_Group[A][114:142]) \n",
    "\n",
    "\n",
    "x_train = info[121:131,0]#10 วัน\n",
    "y_train = info[121:131,1]\n",
    "dtree = LinearRegression()\n",
    "dtree.fit(x_train.reshape(-1,1),y_train)\n",
    "\n",
    "x = info[150,0]\n",
    "pred=dtree.predict([[x]])\n",
    "\n",
    "\n",
    "print(pred)\n",
    "print(dtree.score(x_train.reshape(-1,1),y_train))\n",
    "info[150,1]\n",
    "# print(info[121:131,0])\n",
    "\n",
    "for i in range (1):\n",
    "    maeLinear.append(mean_absolute_error([info[150,1]],pred))\n",
    "for i in range (1):\n",
    "    mseLinear.append(mean_squared_error([info[150,1]],pred))\n",
    "\n",
    "plot_st_day.append(x_train)\n",
    "plot_stop_day.append(y_train)\n",
    "plot_true_day.append(x)\n",
    "plot_true_sale.append(info[150,1])\n",
    "plot_pred.append(pred)"
   ]
  },
  {
   "cell_type": "code",
   "execution_count": 292,
   "metadata": {},
   "outputs": [
    {
     "name": "stdout",
     "output_type": "stream",
     "text": [
      "[6322524.26666667]\n",
      "0.9957167199894305\n"
     ]
    }
   ],
   "source": [
    "##### month 6 ##### linearRegression\n",
    "\n",
    "# print(info[151:181])\n",
    "# print(All_Group[A][114:142]) \n",
    "\n",
    "\n",
    "x_train = info[151:161,0]#10 วัน\n",
    "y_train = info[151:161,1]\n",
    "dtree = LinearRegression()\n",
    "dtree.fit(x_train.reshape(-1,1),y_train)\n",
    "\n",
    "x = info[180,0]\n",
    "pred=dtree.predict([[x]])\n",
    "\n",
    "\n",
    "print(pred)\n",
    "print(dtree.score(x_train.reshape(-1,1),y_train))\n",
    "info[180,1]\n",
    "# print(info[180,0])\n",
    "\n",
    "for i in range (1):\n",
    "    maeLinear.append(mean_absolute_error([info[180,1]],pred))\n",
    "for i in range (1):\n",
    "    mseLinear.append(mean_squared_error([info[180,1]],pred))\n",
    "\n",
    "plot_st_day.append(x_train)\n",
    "plot_stop_day.append(y_train)\n",
    "plot_true_day.append(x)\n",
    "plot_true_sale.append(info[180,1])\n",
    "plot_pred.append(pred)"
   ]
  },
  {
   "cell_type": "code",
   "execution_count": 293,
   "metadata": {},
   "outputs": [
    {
     "name": "stdout",
     "output_type": "stream",
     "text": [
      "[7006758.07272728]\n",
      "0.9931523926712571\n"
     ]
    }
   ],
   "source": [
    "##### month 7 ##### linearRegression\n",
    "\n",
    "# print(info[181:212])\n",
    "# print(All_Group[A][114:142]) \n",
    "\n",
    "\n",
    "x_train = info[181:191,0]#10 วัน\n",
    "y_train = info[181:191,1]\n",
    "dtree = LinearRegression()\n",
    "dtree.fit(x_train.reshape(-1,1),y_train)\n",
    "\n",
    "x = info[211,0]\n",
    "pred=dtree.predict([[x]])\n",
    "\n",
    "\n",
    "print(pred)\n",
    "print(dtree.score(x_train.reshape(-1,1),y_train))\n",
    "info[211,1]\n",
    "# print(info[211])\n",
    "\n",
    "for i in range (1):\n",
    "    maeLinear.append(mean_absolute_error([info[211,1]],pred))\n",
    "for i in range (1):\n",
    "    mseLinear.append(mean_squared_error([info[211,1]],pred))\n",
    "\n",
    "plot_st_day.append(x_train)\n",
    "plot_stop_day.append(y_train)\n",
    "plot_true_day.append(x)\n",
    "plot_true_sale.append(info[211,1])\n",
    "plot_pred.append(pred)"
   ]
  },
  {
   "cell_type": "code",
   "execution_count": 294,
   "metadata": {},
   "outputs": [
    {
     "name": "stdout",
     "output_type": "stream",
     "text": [
      "[7082203.43636364]\n",
      "0.9963020028752657\n"
     ]
    }
   ],
   "source": [
    "##### month 8 ##### linearRegression\n",
    "\n",
    "# print(info[212:243])\n",
    "# print(All_Group[A][114:142]) \n",
    "\n",
    "\n",
    "x_train = info[212:222,0]#10 วัน\n",
    "y_train = info[212:222,1]\n",
    "dtree = LinearRegression()\n",
    "dtree.fit(x_train.reshape(-1,1),y_train)\n",
    "\n",
    "x = info[242,0]\n",
    "pred=dtree.predict([[x]])\n",
    "\n",
    "\n",
    "print(pred)\n",
    "print(dtree.score(x_train.reshape(-1,1),y_train))\n",
    "info[242,1]\n",
    "# print(info[242])\n",
    "\n",
    "for i in range (1):\n",
    "    maeLinear.append(mean_absolute_error([info[242,1]],pred))\n",
    "for i in range (1):\n",
    "    mseLinear.append(mean_squared_error([info[242,1]],pred))\n",
    "\n",
    "plot_st_day.append(x_train)\n",
    "plot_stop_day.append(y_train)\n",
    "plot_true_day.append(x)\n",
    "plot_true_sale.append(info[242,1])\n",
    "plot_pred.append(pred)"
   ]
  },
  {
   "cell_type": "code",
   "execution_count": 295,
   "metadata": {},
   "outputs": [
    {
     "name": "stdout",
     "output_type": "stream",
     "text": [
      "[6419878.85454546]\n",
      "0.9962758084557758\n"
     ]
    }
   ],
   "source": [
    "##### month 9 ##### linearRegression\n",
    "\n",
    "# print(info[243:273])\n",
    "# print(All_Group[A][114:142]) \n",
    "\n",
    "\n",
    "x_train = info[243:253,0]#10 วัน\n",
    "y_train = info[243:253,1]\n",
    "dtree = LinearRegression()\n",
    "dtree.fit(x_train.reshape(-1,1),y_train)\n",
    "\n",
    "x = info[272,0]\n",
    "pred=dtree.predict([[x]])\n",
    "\n",
    "\n",
    "print(pred)\n",
    "print(dtree.score(x_train.reshape(-1,1),y_train))\n",
    "info[272,1]\n",
    "# print(info[242])\n",
    "\n",
    "for i in range (1):\n",
    "    maeLinear.append(mean_absolute_error([info[272,1]],pred))\n",
    "for i in range (1):\n",
    "    mseLinear.append(mean_squared_error([info[272,1]],pred))\n",
    "\n",
    "plot_st_day.append(x_train)\n",
    "plot_stop_day.append(y_train)\n",
    "plot_true_day.append(x)\n",
    "plot_true_sale.append(info[272,1])\n",
    "plot_pred.append(pred)\n"
   ]
  },
  {
   "cell_type": "code",
   "execution_count": 296,
   "metadata": {},
   "outputs": [
    {
     "name": "stdout",
     "output_type": "stream",
     "text": [
      "[6980619.19999999]\n",
      "0.9956977558152011\n"
     ]
    }
   ],
   "source": [
    "##### month 10 ##### linearRegression\n",
    "\n",
    "# print(info[273:304])\n",
    "# print(All_Group[A][114:142]) \n",
    "\n",
    "\n",
    "x_train = info[273:283,0]#10 วัน\n",
    "y_train = info[273:283,1]\n",
    "dtree = LinearRegression()\n",
    "dtree.fit(x_train.reshape(-1,1),y_train)\n",
    "\n",
    "x = info[303,0]\n",
    "pred=dtree.predict([[x]])\n",
    "\n",
    "\n",
    "print(pred)\n",
    "print(dtree.score(x_train.reshape(-1,1),y_train))\n",
    "info[303,1]\n",
    "# print(info[242])\n",
    "\n",
    "for i in range (1):\n",
    "    maeLinear.append(mean_absolute_error([info[303,1]],pred))\n",
    "for i in range (1):\n",
    "    mseLinear.append(mean_squared_error([info[303,1]],pred))\n",
    "\n",
    "plot_st_day.append(x_train)\n",
    "plot_stop_day.append(y_train)\n",
    "plot_true_day.append(x)\n",
    "plot_true_sale.append(info[303,1])\n",
    "plot_pred.append(pred)\n"
   ]
  },
  {
   "cell_type": "code",
   "execution_count": 297,
   "metadata": {},
   "outputs": [
    {
     "name": "stdout",
     "output_type": "stream",
     "text": [
      "[-2115849.89090909]\n",
      "0.05764045959799691\n"
     ]
    }
   ],
   "source": [
    "##### month 11 ##### linearRegression\n",
    "\n",
    "# print(info[303:334])\n",
    "# print(All_Group[A][114:142]) \n",
    "\n",
    "\n",
    "x_train = info[303:313,0]#10 วัน\n",
    "y_train = info[303:313,1]\n",
    "dtree = LinearRegression()\n",
    "dtree.fit(x_train.reshape(-1,1),y_train)\n",
    "\n",
    "x = info[333,0]\n",
    "pred=dtree.predict([[x]])\n",
    "\n",
    "\n",
    "print(pred)\n",
    "print(dtree.score(x_train.reshape(-1,1),y_train))\n",
    "info[333,1]\n",
    "# print(info[333])\n",
    "\n",
    "for i in range (1):\n",
    "    maeLinear.append(mean_absolute_error([info[333,1]],pred))\n",
    "for i in range (1):\n",
    "    mseLinear.append(mean_squared_error([info[333,1]],pred))\n",
    "\n",
    "plot_st_day.append(x_train)\n",
    "plot_stop_day.append(y_train)\n",
    "plot_true_day.append(x)\n",
    "plot_true_sale.append(info[333,1])\n",
    "plot_pred.append(pred)\n"
   ]
  },
  {
   "cell_type": "code",
   "execution_count": 302,
   "metadata": {},
   "outputs": [
    {
     "name": "stdout",
     "output_type": "stream",
     "text": [
      "[6700134.23636363]\n",
      "0.9784325943822219\n",
      "28777.0\n"
     ]
    }
   ],
   "source": [
    "##### month 12 ##### linearRegression\n",
    "# print(info[334:365])\n",
    "# print(All_Group[A][114:142]) \n",
    "x_train = info[334:344,0]#10 วัน\n",
    "y_train = info[334:344,1]\n",
    "dtree = LinearRegression()\n",
    "dtree.fit(x_train.reshape(-1,1),y_train)\n",
    "\n",
    "x = info[364,0]\n",
    "pred=dtree.predict([[x]])\n",
    "\n",
    "\n",
    "print(pred)\n",
    "print(dtree.score(x_train.reshape(-1,1),y_train))\n",
    "info[364,1]\n",
    "print(info[364,1])\n",
    "\n",
    "\n",
    "# for i in range (1):\n",
    "#     maeLinear.append(mean_absolute_error([info[364,1]],pred))\n",
    "# for i in range (1):\n",
    "#     mseLinear.append(mean_squared_error([info[364,1]],pred))\n",
    "\n",
    "# plot_st_day.append(x_train)\n",
    "# plot_stop_day.append(y_train)\n",
    "# plot_true_day.append(x)\n",
    "# plot_true_sale.append(info[364,1])\n",
    "# plot_pred.append(pred)\n",
    "\n"
   ]
  },
  {
   "cell_type": "code",
   "execution_count": 299,
   "metadata": {},
   "outputs": [
    {
     "name": "stdout",
     "output_type": "stream",
     "text": [
      "1589823.2666666657\n",
      "10621252398457.709\n"
     ]
    }
   ],
   "source": [
    "maeLinear = np.array(maeLinear)\n",
    "mseLinear = np.array(mseLinear)\n",
    "print(np.average(maeLinear))\n",
    "print(np.average(mseLinear))"
   ]
  },
  {
   "cell_type": "code",
   "execution_count": 301,
   "metadata": {},
   "outputs": [
    {
     "data": {
      "image/png": "[encoded data removed]",
      "text/plain": [
       "<Figure size 1440x1080 with 12 Axes>"
      ]
     },
     "metadata": {
      "needs_background": "light"
     },
     "output_type": "display_data"
    }
   ],
   "source": [
    "# inverse_d_new(info)\n",
    "# seaborn\n",
    "fig,axs = plt.subplots(nrows=6, ncols=2,figsize=(20,15))\n",
    "plt.tight_layout()\n",
    "index_for_plot = 0\n",
    "for i in range(6):\n",
    "    for j in range(2):\n",
    "        axs[i,j].scatter(plot_st_day[index_for_plot],plot_stop_day[index_for_plot],marker='x',label='10 Days')\n",
    "        axs[i,j].plot(plot_true_day[index_for_plot],plot_pred[index_for_plot],marker='D',color='r',label='predict')\n",
    "        axs[i,j].plot(plot_true_day[index_for_plot],plot_true_sale[index_for_plot],marker='s',color='y',label='true data')\n",
    "        axs[i,j].set_xlabel('Day')\n",
    "        axs[i,j].set_ylabel('CumSales')\n",
    "        axs[i,j].legend(loc='best')\n",
    "        index_for_plot += 1\n",
    "   \n",
    "\n",
    "    "
   ]
  }
 ],
 "metadata": {
  "kernelspec": {
   "display_name": "Python 3.10.5 64-bit",
   "language": "python",
   "name": "python3"
  },
  "language_info": {
   "codemirror_mode": {
    "name": "ipython",
    "version": 3
   },
   "file_extension": ".py",
   "mimetype": "text/x-python",
   "name": "python",
   "nbconvert_exporter": "python",
   "pygments_lexer": "ipython3",
   "version": "3.10.5"
  },
  "orig_nbformat": 4,
  "vscode": {
   "interpreter": {
    "hash": "ca24f8275a328de2b3270a7cab77592329fa07a6c920079074a1e486941f897c"
   }
  }
 },
 "nbformat": 4,
 "nbformat_minor": 2
}
