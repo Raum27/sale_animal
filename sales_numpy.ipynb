{
 "cells": [
  {
   "cell_type": "code",
   "execution_count": 2,
   "metadata": {},
   "outputs": [
    {
     "name": "stdout",
     "output_type": "stream",
     "text": [
      "Index(['DayKey', 'ProductGroup', 'Area', 'Channel', 'Sales', 'CumSales'], dtype='object')\n"
     ]
    }
   ],
   "source": [
    "import pandas as pd\n",
    "import numpy as np\n",
    "import matplotlib.pyplot as plt\n",
    "from sklearn.neighbors import KNeighborsRegressor\n",
    "from sklearn.linear_model import LinearRegression\n",
    "from sklearn.preprocessing import LabelEncoder\n",
    "\n",
    "le = LabelEncoder()\n",
    "\n",
    "data = pd.read_csv('Sales_masked.csv')\n",
    "print(data.keys())\n",
    "# data.isnull().sum().to_frame()\n",
    "data.sort_values('DayKey',inplace=True)\n",
    "\n",
    "\n",
    "data['DayKey'] = le.fit_transform(data.iloc[:,0])\n",
    "data['ProductGroup'] = le.fit_transform(data.iloc[:,1])\n",
    "data['Area'] = le.fit_transform(data.iloc[:,2])\n",
    "data['Channel'] = le.fit_transform(data.iloc[:,3])\n",
    "data_np = data.to_numpy()\n",
    "data_np\n",
    "\n",
    "#product group 1 Area 1 channel 1\n",
    "def identifier(info):\n",
    "    G = []\n",
    "    for i in range(data_np.shape[0]):\n",
    "        if data_np[i, 1] == info:\n",
    "            G.append(data_np[i, :])\n",
    "    G = np.array(G)  \n",
    "    return G\n",
    "\n",
    "G_1 = identifier(0)\n",
    "G_2 = identifier(1)\n",
    "G_3 = identifier(2)\n",
    "G_4 = identifier(3)\n",
    "G_5 = identifier(4)\n",
    "G_6 = identifier(5)\n",
    "G_7 = identifier(6)\n",
    "G_8 = identifier(7)\n",
    "G_9 = identifier(8)\n",
    "G_10 = identifier(9)\n",
    "\n",
    "\n",
    "# print(len(G_1)+len(G_2)+len(G_3)+len(G_4)+len(G_5)+len(G_6)+len(G_7)+len(G_8)+len(G_9)+len(G_10))\n"
   ]
  },
  {
   "cell_type": "code",
   "execution_count": 5,
   "metadata": {},
   "outputs": [
    {
     "data": {
      "text/plain": [
       "(40167, 6)"
      ]
     },
     "execution_count": 5,
     "metadata": {},
     "output_type": "execute_result"
    }
   ],
   "source": [
    "# for i in range(G_1.shape[0]):\n",
    "#     print(G_1[i,0])\n",
    "plt.scatter()\n"
   ]
  },
  {
   "cell_type": "code",
   "execution_count": 23,
   "metadata": {},
   "outputs": [
    {
     "name": "stdout",
     "output_type": "stream",
     "text": [
      "0.35391133151023346\n",
      "[-1.86909666e+01  1.86577083e-08 -2.63084570e+04 -1.86641603e+03\n",
      "  6.99599558e+00]\n"
     ]
    }
   ],
   "source": [
    "from sklearn.model_selection import train_test_split\n",
    "from sklearn.linear_model import LinearRegression\n",
    "X_train, X_test , y_train , y_test = train_test_split (G_10[:,0:5],G_10[:,5],random_state=29,test_size=0.2)\n",
    "\n",
    "reg = LinearRegression()\n",
    "reg.fit(X_train,y_train)\n",
    "pred=reg.predict(X_test)\n",
    "print(reg.score(X_train,y_train))\n",
    "print(reg.coef_)\n"
   ]
  },
  {
   "cell_type": "code",
   "execution_count": null,
   "metadata": {},
   "outputs": [],
   "source": []
  },
  {
   "cell_type": "code",
   "execution_count": null,
   "metadata": {},
   "outputs": [],
   "source": []
  },
  {
   "cell_type": "code",
   "execution_count": null,
   "metadata": {},
   "outputs": [],
   "source": []
  },
  {
   "cell_type": "code",
   "execution_count": null,
   "metadata": {},
   "outputs": [],
   "source": []
  },
  {
   "cell_type": "code",
   "execution_count": null,
   "metadata": {},
   "outputs": [],
   "source": []
  }
 ],
 "metadata": {
  "kernelspec": {
   "display_name": "Python 3.10.5 64-bit",
   "language": "python",
   "name": "python3"
  },
  "language_info": {
   "codemirror_mode": {
    "name": "ipython",
    "version": 3
   },
   "file_extension": ".py",
   "mimetype": "text/x-python",
   "name": "python",
   "nbconvert_exporter": "python",
   "pygments_lexer": "ipython3",
   "version": "3.10.5"
  },
  "orig_nbformat": 4,
  "vscode": {
   "interpreter": {
    "hash": "ca24f8275a328de2b3270a7cab77592329fa07a6c920079074a1e486941f897c"
   }
  }
 },
 "nbformat": 4,
 "nbformat_minor": 2
}
