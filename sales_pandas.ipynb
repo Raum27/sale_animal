{
 "cells": [
  {
   "cell_type": "code",
   "execution_count": 91,
   "metadata": {},
   "outputs": [
    {
     "name": "stdout",
     "output_type": "stream",
     "text": [
      "Index(['DayKey', 'ProductGroup', 'Area', 'Channel', 'Sales', 'CumSales'], dtype='object')\n"
     ]
    }
   ],
   "source": [
    "import pandas as pd\n",
    "import numpy as np\n",
    "import matplotlib.pyplot as plt\n",
    "from sklearn.preprocessing import LabelEncoder\n",
    "\n",
    "le = LabelEncoder()\n",
    "\n",
    "data = pd.read_csv('Sales_masked.csv')\n",
    "print(data.keys())\n",
    "# data.isnull().sum().to_frame()\n",
    "data.sort_values('DayKey',inplace=True)\n",
    "\n",
    "\n",
    "# transform data\n",
    "def transform_d(G):\n",
    "        G[:,0]=le.fit_transform(G[:,0])\n",
    "        G[:,1]=le.fit_transform(G[:,1])\n",
    "        G[:,2]=le.fit_transform(G[:,2])\n",
    "        G[:,3]=le.fit_transform(G[:,3])\n",
    "\n",
    "#product group 1 Area 1 channel 1\n",
    "def identifier(product,area,chanel):\n",
    "    G = []\n",
    "    for i in range(data.shape[0]):\n",
    "        if data.iloc[i, 1] == product and data.iloc[i, 2] == area and data.iloc[i, 3] == chanel:\n",
    "            G.append(data.iloc[i, :])\n",
    "    G = np.array(G)  \n",
    "    return G\n",
    "\n",
    "#Group 1 \n",
    "G111 = identifier('G1','A1','C1')\n",
    "transform_d(G111)\n",
    "G121 = identifier('G1','A2','C1')\n",
    "transform_d(G121)\n",
    "G131= identifier('G1','A3','C1')\n",
    "transform_d(G131)\n",
    "G141 = identifier('G1','A4','C1')\n",
    "transform_d(G141)\n",
    "G151 = identifier('G1','A5','C1')\n",
    "transform_d(G151)\n",
    "G161 = identifier('G1','A6','C1')\n",
    "transform_d(G161)\n",
    "G112 = identifier('G1','A1','C2')\n",
    "transform_d(G112)\n",
    "G122 = identifier('G1','A2','C2')\n",
    "transform_d(G122)\n",
    "G132 = identifier('G1','A3','C2')\n",
    "transform_d(G132)\n",
    "G142 = identifier('G1','A4','C2')\n",
    "transform_d(G142)\n",
    "G152 = identifier('G1','A5','C2')\n",
    "transform_d(G152)\n",
    "G162 = identifier('G1','A6','C2')\n",
    "transform_d(G162)\n",
    "\n",
    "\n",
    "\n",
    "\n",
    "# G1,x = identifier('G1','A1','C1')\n",
    "# transform_d(G1)\n",
    "# G1,x = identifier('G1','A1','C1')\n",
    "# transform_d(G1)\n",
    "# G1,x = identifier('G1','A1','C1')\n",
    "# transform_d(G1)\n",
    "\n",
    "# G2 = identifier('G2')\n",
    "# transform_d(G2)\n",
    "# G3 = identifier('G3')\n",
    "# transform_d(G3)\n",
    "# G4 = identifier('G4')\n",
    "# transform_d(G4)\n",
    "# G5 = identifier('G5')\n",
    "# transform_d(G5)\n",
    "# G6 = identifier('G6')\n",
    "# transform_d(G6)\n",
    "# G7 = identifier('G7')\n",
    "# transform_d(G7)\n",
    "# G8 = identifier('G8')\n",
    "# transform_d(G8)\n",
    "# G9 = identifier('G9')\n",
    "# transform_d(G9)\n",
    "# G10 = identifier('G10')\n",
    "# transform_d(G10)\n",
    "\n",
    "# print(len(G_1)+len(G_2)+len(G_3)+len(G_4)+len(G_5)+len(G_6)+len(G_7)+len(G_8)+len(G_9)+len(G_10))\n"
   ]
  },
  {
   "cell_type": "code",
   "execution_count": null,
   "metadata": {},
   "outputs": [],
   "source": [
    "#Group 2 \n",
    "G211 = identifier('G2','A1','C1')\n",
    "transform_d(G211)\n",
    "G221 = identifier('G2','A2','C1')\n",
    "transform_d(G221)\n",
    "G231= identifier('G2','A3','C1')\n",
    "transform_d(G231)\n",
    "G241 = identifier('G2','A4','C1')\n",
    "transform_d(G241)\n",
    "G251 = identifier('G2','A5','C1')\n",
    "transform_d(G251)\n",
    "G261 = identifier('G2','A6','C1')\n",
    "transform_d(G261)\n",
    "G212 = identifier('G2','A1','C2')\n",
    "transform_d(G212)\n",
    "G222 = identifier('G2','A2','C2')\n",
    "transform_d(G222)\n",
    "G232 = identifier('G2','A3','C2')\n",
    "transform_d(G232)\n",
    "G242 = identifier('G2','A4','C2')\n",
    "transform_d(G242)\n",
    "G252 = identifier('G2','A5','C2')\n",
    "transform_d(G252)\n",
    "G262 = identifier('G2','A6','C2')\n",
    "transform_d(G262)"
   ]
  },
  {
   "cell_type": "code",
   "execution_count": null,
   "metadata": {},
   "outputs": [],
   "source": [
    "#Group 3 \n",
    "G311 = identifier('G3','A1','C1')\n",
    "transform_d(G311)\n",
    "G321 = identifier('G3','A2','C1')\n",
    "transform_d(G321)\n",
    "G331= identifier('G3','A3','C1')\n",
    "transform_d(G331)\n",
    "G341 = identifier('G3','A4','C1')\n",
    "transform_d(G341)\n",
    "G351 = identifier('G3','A5','C1')\n",
    "transform_d(G351)\n",
    "G361 = identifier('G3','A6','C1')\n",
    "transform_d(G361)\n",
    "G312 = identifier('G3','A1','C2')\n",
    "transform_d(G312)\n",
    "G322 = identifier('G3','A2','C2')\n",
    "transform_d(G322)\n",
    "G332 = identifier('G3','A3','C2')\n",
    "transform_d(G132)\n",
    "G342 = identifier('G3','A4','C2')\n",
    "transform_d(G342)\n",
    "G352 = identifier('G3','A5','C2')\n",
    "transform_d(G352)\n",
    "G362 = identifier('G3','A6','C2')\n",
    "transform_d(G362)"
   ]
  },
  {
   "cell_type": "code",
   "execution_count": null,
   "metadata": {},
   "outputs": [],
   "source": [
    "#Group 4 \n",
    "G411 = identifier('G4','A1','C1')\n",
    "transform_d(G411)\n",
    "G421 = identifier('G4','A2','C1')\n",
    "transform_d(G421)\n",
    "G431= identifier('G4','A3','C1')\n",
    "transform_d(G431)\n",
    "G441 = identifier('G4','A4','C1')\n",
    "transform_d(G441)\n",
    "G451 = identifier('G4','A5','C1')\n",
    "transform_d(G451)\n",
    "G461 = identifier('G4','A6','C1')\n",
    "transform_d(G461)\n",
    "G412 = identifier('G4','A1','C2')\n",
    "transform_d(G412)\n",
    "G422 = identifier('G4','A2','C2')\n",
    "transform_d(G422)\n",
    "G432 = identifier('G4','A3','C2')\n",
    "transform_d(G432)\n",
    "G442 = identifier('G4','A4','C2')\n",
    "transform_d(G442)\n",
    "G452 = identifier('G4','A5','C2')\n",
    "transform_d(G452)\n",
    "G462 = identifier('G4','A6','C2')\n",
    "transform_d(G462)"
   ]
  },
  {
   "cell_type": "code",
   "execution_count": null,
   "metadata": {},
   "outputs": [],
   "source": [
    "#Group 5\n",
    "G511 = identifier('G5','A1','C1')\n",
    "transform_d(G511)\n",
    "G521 = identifier('G5','A2','C1')\n",
    "transform_d(G521)\n",
    "G531= identifier('G5','A3','C1')\n",
    "transform_d(G531)\n",
    "G541 = identifier('G5','A4','C1')\n",
    "transform_d(G541)\n",
    "G551 = identifier('G5','A5','C1')\n",
    "transform_d(G551)\n",
    "G561 = identifier('G5','A6','C1')\n",
    "transform_d(G561)\n",
    "G512 = identifier('G5','A1','C2')\n",
    "transform_d(G512)\n",
    "G522 = identifier('G5','A2','C2')\n",
    "transform_d(G522)\n",
    "G532 = identifier('G5','A3','C2')\n",
    "transform_d(G532)\n",
    "G542 = identifier('G5','A4','C2')\n",
    "transform_d(G542)\n",
    "G552 = identifier('G5','A5','C2')\n",
    "transform_d(G552)\n",
    "G562 = identifier('G5','A6','C2')\n",
    "transform_d(G562)"
   ]
  },
  {
   "cell_type": "code",
   "execution_count": null,
   "metadata": {},
   "outputs": [],
   "source": [
    "#Group 5\n",
    "G611 = identifier('G6','A1','C1')\n",
    "transform_d(G611)\n",
    "G621 = identifier('G6','A2','C1')\n",
    "transform_d(G621)\n",
    "G631= identifier('G6','A3','C1')\n",
    "transform_d(G631)\n",
    "G641 = identifier('G6','A4','C1')\n",
    "transform_d(G641)\n",
    "G651 = identifier('G6','A5','C1')\n",
    "transform_d(G651)\n",
    "G661 = identifier('G6','A6','C1')\n",
    "transform_d(G661)\n",
    "G612 = identifier('G6','A1','C2')\n",
    "transform_d(G612)\n",
    "G622 = identifier('G6','A2','C2')\n",
    "transform_d(G622)\n",
    "G632 = identifier('G6','A3','C2')\n",
    "transform_d(G632)\n",
    "G642 = identifier('G6','A4','C2')\n",
    "transform_d(G642)\n",
    "G652 = identifier('G6','A5','C2')\n",
    "transform_d(G652)\n",
    "G662 = identifier('G6','A6','C2')\n",
    "transform_d(G662)"
   ]
  },
  {
   "cell_type": "code",
   "execution_count": 95,
   "metadata": {},
   "outputs": [
    {
     "name": "stdout",
     "output_type": "stream",
     "text": [
      "(3703, 6)\n"
     ]
    },
    {
     "data": {
      "text/plain": [
       "<matplotlib.collections.PathCollection at 0x1b6a8ba0d30>"
      ]
     },
     "execution_count": 95,
     "metadata": {},
     "output_type": "execute_result"
    },
    {
     "data": {
      "image/png": "[encoded data removed]",
      "text/plain": [
       "<Figure size 432x288 with 1 Axes>"
      ]
     },
     "metadata": {
      "needs_background": "light"
     },
     "output_type": "display_data"
    }
   ],
   "source": []
  },
  {
   "cell_type": "code",
   "execution_count": 96,
   "metadata": {},
   "outputs": [
    {
     "name": "stdout",
     "output_type": "stream",
     "text": [
      "(767, 5)\n",
      "(767,)\n",
      "0.4194029962802154\n"
     ]
    },
    {
     "data": {
      "text/plain": [
       "array([228.6068218 ,   0.        ,   0.        ,   0.        ,\n",
       "         4.94339235])"
      ]
     },
     "execution_count": 96,
     "metadata": {},
     "output_type": "execute_result"
    }
   ],
   "source": [
    "# from sklearn.model_selection import train_test_split\n",
    "# from sklearn.linear_model import LinearRegression\n",
    "# X_train, X_test , y_train , y_test = train_test_split (G111[:,:5],G111[:,5],random_state=27,test_size=0.2)\n",
    "# print(X_test.shape)\n",
    "# print(y_test.shape)\n",
    "# reg = LinearRegression()\n",
    "# reg.fit(X_train,y_train)\n",
    "# pred=reg.predict(X_test)\n",
    "# print(reg.score(X_train,y_train))\n",
    "# reg.coef_\n"
   ]
  }
 ],
 "metadata": {
  "kernelspec": {
   "display_name": "Python 3.10.5 64-bit",
   "language": "python",
   "name": "python3"
  },
  "language_info": {
   "codemirror_mode": {
    "name": "ipython",
    "version": 3
   },
   "file_extension": ".py",
   "mimetype": "text/x-python",
   "name": "python",
   "nbconvert_exporter": "python",
   "pygments_lexer": "ipython3",
   "version": "3.10.5"
  },
  "orig_nbformat": 4,
  "vscode": {
   "interpreter": {
    "hash": "ca24f8275a328de2b3270a7cab77592329fa07a6c920079074a1e486941f897c"
   }
  }
 },
 "nbformat": 4,
 "nbformat_minor": 2
}
