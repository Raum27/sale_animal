{
 "cells": [
  {
   "cell_type": "code",
   "execution_count": 10,
   "metadata": {},
   "outputs": [
    {
     "name": "stdout",
     "output_type": "stream",
     "text": [
      "Index(['DayKey', 'ProductGroup', 'Area', 'Channel', 'Sales', 'CumSales'], dtype='object')\n"
     ]
    }
   ],
   "source": [
    "import pandas as pd\n",
    "import numpy as np\n",
    "import matplotlib.pyplot as plt\n",
    "from sklearn.neighbors import KNeighborsRegressor\n",
    "from sklearn.preprocessing import LabelEncoder\n",
    "\n",
    "data = pd.read_csv('Sales_masked.csv')\n",
    "print(data.keys())\n",
    "# data.isnull().sum().to_frame()\n",
    "data.sort_values('DayKey', inplace=True)\n",
    "\n",
    "data_np = data.to_numpy()\n",
    "data_np\n",
    "\n",
    "keep_le = []\n",
    "\n",
    "def gen_GAC():\n",
    "    gen_G =[]\n",
    "    for i in range(1,11):\n",
    "        gen_G.append('G'+str(i%11))\n",
    "    gen_A =[]\n",
    "    for i in range(1,7):\n",
    "        gen_A.append('A'+str(i%7))\n",
    "    gen_C =[]\n",
    "    for i in range(1,3):\n",
    "        gen_C.append('C'+str(i%3))\n",
    "\n",
    "    string = []\n",
    "    for i in range(10):\n",
    "        for j in range(12):\n",
    "            string.append(gen_G[i]+gen_A[j%6])\n",
    "    sum =0\n",
    "    count = 1\n",
    "    for i in range(120):\n",
    "        if sum < 6   :\n",
    "            string[i] += 'C'+'1'\n",
    "            sum +=1\n",
    "        else :\n",
    "            string[i] += 'C'+'2'\n",
    "            sum +=1\n",
    "            if sum == 12 :\n",
    "                sum = 0\n",
    "    return string\n",
    "# หาindex \n",
    "def findrecode(product, area, chanel):\n",
    "        row = 0\n",
    "        pac = gen_GAC()\n",
    "        for i in range(len(pac)):\n",
    "            if len(pac[i]) > 6 :\n",
    "                if pac[i][0:3] == product and pac[i][3:5] == area and pac[i][5:] == chanel: #แก้ตรงนี้\n",
    "                    row = i\n",
    "                    break\n",
    "            else :\n",
    "                if pac[i][0:2] == product and pac[i][2:4] == area and pac[i][4:] == chanel: #แก้ตรงนี้\n",
    "                    row = i\n",
    "                    break\n",
    "        return row\n",
    "\n",
    "sum=0\n",
    "def transform_d(G,check=False,product=None,area=None,chanel=None):\n",
    "    if check != True:\n",
    "        global sum\n",
    "        for i in range(4):\n",
    "            le = LabelEncoder()\n",
    "            keep_le.append(le)\n",
    "            G[:, i] = keep_le[sum].fit_transform(G[:, i])\n",
    "            sum += 1\n",
    "    else:\n",
    "        index = findrecode(product, area, chanel) #หาข้อมูลตำแน่งที่ต้องการ จะเปลี่ยนว่าจะไป อยู่ในตัวใดจาก 120 ตัว\n",
    "        # print(index)\n",
    "        for i in range(G.shape[1]-2):\n",
    "            G[:,i] = keep_le[int(arr[index][i])].fit_transform(G[:,i])\n",
    "\n",
    "# สำหรับอ้างอิงตำแหน่งใน keep_le\n",
    "arr = np.zeros((120, 4))\n",
    "xum = 0\n",
    "for i in range(120):\n",
    "    for j in range(4):\n",
    "        arr[i][j] += xum\n",
    "        xum += 1\n",
    "        \n",
    "# print(arr)\n",
    "\n",
    "# #product group 1 Area 1 channel 1\n",
    "def identifier(product, area, chanel):\n",
    "    G = []\n",
    "    for i in range(data_np.shape[0]):\n",
    "        if data_np[i, 1] == product and data_np[i, 2] == area and data_np[i, 3] == chanel:\n",
    "            G.append(data_np[i, :])\n",
    "    G = np.array(G)\n",
    "    transform_d(G)  # problem\n",
    "    return G\n",
    "\n"
   ]
  },
  {
   "cell_type": "code",
   "execution_count": 11,
   "metadata": {},
   "outputs": [],
   "source": [
    "# print(len(keep_le)) #เช็คตำนวน encode\n",
    "\n",
    "# Good\n",
    "def get_inverse(G,index):\n",
    "    xx = []\n",
    "    for i in range(G.shape[0]):\n",
    "        xx.append(G[i,index])\n",
    "    return xx\n",
    "\n",
    "# not yet\n",
    "def inverse_d(G,product, area, chanel):\n",
    "    # print(product, area, chanel)\n",
    "    index = findrecode(product, area, chanel) #หาข้อมูลตำแน่งที่ต้องการ จะเปลี่ยนว่าจะไป อยู่ในตัวใดจาก 120 ตัว\n",
    "    # print(index)\n",
    "    for i in range(G.shape[1]-2): # columns - 2 \n",
    "        xx = get_inverse(G,i) # เอาข้อมูลจาก ฟังก์ชันมาแปลง กลับ เป็นตัวเดิม\n",
    "        # print(xx)\n",
    "        G[:,i] = keep_le[int(arr[index][i])].inverse_transform(xx)\n"
   ]
  },
  {
   "cell_type": "code",
   "execution_count": 12,
   "metadata": {},
   "outputs": [],
   "source": [
    "G111 = identifier('G1','A1','C1')\n"
   ]
  },
  {
   "cell_type": "code",
   "execution_count": 13,
   "metadata": {},
   "outputs": [
    {
     "data": {
      "image/png": "[encoded data removed]",
      "text/plain": [
       "<Figure size 432x288 with 1 Axes>"
      ]
     },
     "metadata": {
      "needs_background": "light"
     },
     "output_type": "display_data"
    }
   ],
   "source": [
    "\n",
    "plt.scatter(G111[:, 0], G111[:, 5])\n",
    "plt.show()"
   ]
  },
  {
   "cell_type": "code",
   "execution_count": 22,
   "metadata": {},
   "outputs": [
    {
     "name": "stdout",
     "output_type": "stream",
     "text": [
      "3831\n",
      "3832\n",
      "[[10794.0]\n",
      " [16191.0]\n",
      " [19069.0]\n",
      " ...\n",
      " [3568866.0]\n",
      " [3583821.0]\n",
      " [3836378.0]]\n"
     ]
    }
   ],
   "source": [
    "neigh = KNeighborsRegressor(n_neighbors=1)\n",
    "\n",
    "date = []\n",
    "for i in range(G111.shape[0]):\n",
    "    date.append([G111[i, 0]])\n",
    "# print(date)\n",
    "neigh.fit(date, G111[:, 5])\n",
    "\n",
    "result = []\n",
    "for i in range(G111[0, 0], G111[-1, 0], 1):\n",
    "    result.append(neigh.predict([[i]]))\n",
    "result = np.array(result)\n",
    "# print(G111[0, 0], G111[-1, 0])\n",
    "print(len(result))\n",
    "\n",
    "print(len(G111[:, 0]))\n",
    "\n",
    "print(result)\n",
    "# plt.plot(range(G111[0, 0], G111[-1, 0], 1), result)\n",
    "# plt.show()\n",
    "\n",
    "\n"
   ]
  },
  {
   "cell_type": "code",
   "execution_count": 17,
   "metadata": {},
   "outputs": [
    {
     "data": {
      "text/plain": [
       "[array([0, 1, 2, ..., 3829, 3830, 3831], dtype=object)]"
      ]
     },
     "execution_count": 17,
     "metadata": {},
     "output_type": "execute_result"
    }
   ],
   "source": [
    "for()\n",
    "[G111[:, 0]]"
   ]
  }
 ],
 "metadata": {
  "kernelspec": {
   "display_name": "Python 3.10.5 64-bit",
   "language": "python",
   "name": "python3"
  },
  "language_info": {
   "codemirror_mode": {
    "name": "ipython",
    "version": 3
   },
   "file_extension": ".py",
   "mimetype": "text/x-python",
   "name": "python",
   "nbconvert_exporter": "python",
   "pygments_lexer": "ipython3",
   "version": "3.10.5"
  },
  "orig_nbformat": 4,
  "vscode": {
   "interpreter": {
    "hash": "ca24f8275a328de2b3270a7cab77592329fa07a6c920079074a1e486941f897c"
   }
  }
 },
 "nbformat": 4,
 "nbformat_minor": 2
}
